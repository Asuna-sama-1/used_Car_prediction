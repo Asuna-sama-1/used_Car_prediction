{
  "cells": [
    {
      "cell_type": "markdown",
      "metadata": {
        "id": "view-in-github",
        "colab_type": "text"
      },
      "source": [
        "<a href=\"https://colab.research.google.com/github/Asuna-sama-1/used_Car_prediction/blob/main/Used_Car_Prediction.ipynb\" target=\"_parent\"><img src=\"https://colab.research.google.com/assets/colab-badge.svg\" alt=\"Open In Colab\"/></a>"
      ]
    },
    {
      "cell_type": "markdown",
      "metadata": {
        "id": "tMZO0fK7FKKb"
      },
      "source": [
        "Importing libraies"
      ]
    },
    {
      "cell_type": "code",
      "execution_count": null,
      "metadata": {
        "id": "4jv3kTT1EWam"
      },
      "outputs": [],
      "source": [
        "import numpy as np\n",
        "import pandas as pd\n",
        "import matplotlib.pyplot as plt\n",
        "import seaborn as sns\n",
        "from sklearn import preprocessing\n",
        "from sklearn import metrics"
      ]
    },
    {
      "cell_type": "markdown",
      "metadata": {
        "id": "FxiJ3cYeQsg1"
      },
      "source": [
        "### Load data"
      ]
    },
    {
      "cell_type": "code",
      "execution_count": null,
      "metadata": {
        "colab": {
          "base_uri": "https://localhost:8080/"
        },
        "id": "9a_UoDElFwYP",
        "outputId": "01216fc5-c37c-4989-a2f9-ddc35e1aac7a"
      },
      "outputs": [
        {
          "data": {
            "text/html": [
              "\n",
              "  <div id=\"df-dc5db65c-0058-4dbf-bd5a-b8397d06e022\">\n",
              "    <div class=\"colab-df-container\">\n",
              "      <div>\n",
              "<style scoped>\n",
              "    .dataframe tbody tr th:only-of-type {\n",
              "        vertical-align: middle;\n",
              "    }\n",
              "\n",
              "    .dataframe tbody tr th {\n",
              "        vertical-align: top;\n",
              "    }\n",
              "\n",
              "    .dataframe thead th {\n",
              "        text-align: right;\n",
              "    }\n",
              "</style>\n",
              "<table border=\"1\" class=\"dataframe\">\n",
              "  <thead>\n",
              "    <tr style=\"text-align: right;\">\n",
              "      <th></th>\n",
              "      <th>ListingID</th>\n",
              "      <th>SellerCity</th>\n",
              "      <th>SellerIsPriv</th>\n",
              "      <th>SellerListSrc</th>\n",
              "      <th>SellerName</th>\n",
              "      <th>SellerRating</th>\n",
              "      <th>SellerRevCnt</th>\n",
              "      <th>SellerState</th>\n",
              "      <th>SellerZip</th>\n",
              "      <th>VehBodystyle</th>\n",
              "      <th>...</th>\n",
              "      <th>VehMake</th>\n",
              "      <th>VehMileage</th>\n",
              "      <th>VehModel</th>\n",
              "      <th>VehPriceLabel</th>\n",
              "      <th>VehSellerNotes</th>\n",
              "      <th>VehType</th>\n",
              "      <th>VehTransmission</th>\n",
              "      <th>VehYear</th>\n",
              "      <th>Vehicle_Trim</th>\n",
              "      <th>Dealer_Listing_Price</th>\n",
              "    </tr>\n",
              "  </thead>\n",
              "  <tbody>\n",
              "    <tr>\n",
              "      <th>0</th>\n",
              "      <td>3287</td>\n",
              "      <td>Warren</td>\n",
              "      <td>False</td>\n",
              "      <td>Inventory Command Center</td>\n",
              "      <td>Prime Motorz</td>\n",
              "      <td>5.0</td>\n",
              "      <td>32</td>\n",
              "      <td>MI</td>\n",
              "      <td>48091.0</td>\n",
              "      <td>SUV</td>\n",
              "      <td>...</td>\n",
              "      <td>Jeep</td>\n",
              "      <td>39319.0</td>\n",
              "      <td>Grand Cherokee</td>\n",
              "      <td>Fair Price</td>\n",
              "      <td>NaN</td>\n",
              "      <td>Used</td>\n",
              "      <td>Automatic 8-Speed</td>\n",
              "      <td>2015</td>\n",
              "      <td>High Altitude</td>\n",
              "      <td>30990.0</td>\n",
              "    </tr>\n",
              "    <tr>\n",
              "      <th>1</th>\n",
              "      <td>3920</td>\n",
              "      <td>Fargo</td>\n",
              "      <td>False</td>\n",
              "      <td>Cadillac Certified Program</td>\n",
              "      <td>Gateway Chevrolet Cadillac</td>\n",
              "      <td>4.8</td>\n",
              "      <td>1456</td>\n",
              "      <td>ND</td>\n",
              "      <td>58103.0</td>\n",
              "      <td>SUV</td>\n",
              "      <td>...</td>\n",
              "      <td>Cadillac</td>\n",
              "      <td>30352.0</td>\n",
              "      <td>XT5</td>\n",
              "      <td>Good Deal</td>\n",
              "      <td>Come take a look at our great pre-owned invent...</td>\n",
              "      <td>Used</td>\n",
              "      <td>NaN</td>\n",
              "      <td>2017</td>\n",
              "      <td>NaN</td>\n",
              "      <td>34860.0</td>\n",
              "    </tr>\n",
              "    <tr>\n",
              "      <th>2</th>\n",
              "      <td>4777</td>\n",
              "      <td>Waukesha</td>\n",
              "      <td>False</td>\n",
              "      <td>Jeep Certified Program</td>\n",
              "      <td>Wilde Chrysler Jeep Dodge Ram &amp;amp; Subaru</td>\n",
              "      <td>4.8</td>\n",
              "      <td>1405</td>\n",
              "      <td>WI</td>\n",
              "      <td>53186.0</td>\n",
              "      <td>SUV</td>\n",
              "      <td>...</td>\n",
              "      <td>Jeep</td>\n",
              "      <td>38957.0</td>\n",
              "      <td>Grand Cherokee</td>\n",
              "      <td>Good Deal</td>\n",
              "      <td>Backed by a rigorous 125-point inspection by f...</td>\n",
              "      <td>Used</td>\n",
              "      <td>8-Speed Automatic w/OD</td>\n",
              "      <td>2015</td>\n",
              "      <td>Laredo</td>\n",
              "      <td>23249.0</td>\n",
              "    </tr>\n",
              "  </tbody>\n",
              "</table>\n",
              "<p>3 rows × 29 columns</p>\n",
              "</div>\n",
              "      <button class=\"colab-df-convert\" onclick=\"convertToInteractive('df-dc5db65c-0058-4dbf-bd5a-b8397d06e022')\"\n",
              "              title=\"Convert this dataframe to an interactive table.\"\n",
              "              style=\"display:none;\">\n",
              "        \n",
              "  <svg xmlns=\"http://www.w3.org/2000/svg\" height=\"24px\"viewBox=\"0 0 24 24\"\n",
              "       width=\"24px\">\n",
              "    <path d=\"M0 0h24v24H0V0z\" fill=\"none\"/>\n",
              "    <path d=\"M18.56 5.44l.94 2.06.94-2.06 2.06-.94-2.06-.94-.94-2.06-.94 2.06-2.06.94zm-11 1L8.5 8.5l.94-2.06 2.06-.94-2.06-.94L8.5 2.5l-.94 2.06-2.06.94zm10 10l.94 2.06.94-2.06 2.06-.94-2.06-.94-.94-2.06-.94 2.06-2.06.94z\"/><path d=\"M17.41 7.96l-1.37-1.37c-.4-.4-.92-.59-1.43-.59-.52 0-1.04.2-1.43.59L10.3 9.45l-7.72 7.72c-.78.78-.78 2.05 0 2.83L4 21.41c.39.39.9.59 1.41.59.51 0 1.02-.2 1.41-.59l7.78-7.78 2.81-2.81c.8-.78.8-2.07 0-2.86zM5.41 20L4 18.59l7.72-7.72 1.47 1.35L5.41 20z\"/>\n",
              "  </svg>\n",
              "      </button>\n",
              "      \n",
              "  <style>\n",
              "    .colab-df-container {\n",
              "      display:flex;\n",
              "      flex-wrap:wrap;\n",
              "      gap: 12px;\n",
              "    }\n",
              "\n",
              "    .colab-df-convert {\n",
              "      background-color: #E8F0FE;\n",
              "      border: none;\n",
              "      border-radius: 50%;\n",
              "      cursor: pointer;\n",
              "      display: none;\n",
              "      fill: #1967D2;\n",
              "      height: 32px;\n",
              "      padding: 0 0 0 0;\n",
              "      width: 32px;\n",
              "    }\n",
              "\n",
              "    .colab-df-convert:hover {\n",
              "      background-color: #E2EBFA;\n",
              "      box-shadow: 0px 1px 2px rgba(60, 64, 67, 0.3), 0px 1px 3px 1px rgba(60, 64, 67, 0.15);\n",
              "      fill: #174EA6;\n",
              "    }\n",
              "\n",
              "    [theme=dark] .colab-df-convert {\n",
              "      background-color: #3B4455;\n",
              "      fill: #D2E3FC;\n",
              "    }\n",
              "\n",
              "    [theme=dark] .colab-df-convert:hover {\n",
              "      background-color: #434B5C;\n",
              "      box-shadow: 0px 1px 3px 1px rgba(0, 0, 0, 0.15);\n",
              "      filter: drop-shadow(0px 1px 2px rgba(0, 0, 0, 0.3));\n",
              "      fill: #FFFFFF;\n",
              "    }\n",
              "  </style>\n",
              "\n",
              "      <script>\n",
              "        const buttonEl =\n",
              "          document.querySelector('#df-dc5db65c-0058-4dbf-bd5a-b8397d06e022 button.colab-df-convert');\n",
              "        buttonEl.style.display =\n",
              "          google.colab.kernel.accessAllowed ? 'block' : 'none';\n",
              "\n",
              "        async function convertToInteractive(key) {\n",
              "          const element = document.querySelector('#df-dc5db65c-0058-4dbf-bd5a-b8397d06e022');\n",
              "          const dataTable =\n",
              "            await google.colab.kernel.invokeFunction('convertToInteractive',\n",
              "                                                     [key], {});\n",
              "          if (!dataTable) return;\n",
              "\n",
              "          const docLinkHtml = 'Like what you see? Visit the ' +\n",
              "            '<a target=\"_blank\" href=https://colab.research.google.com/notebooks/data_table.ipynb>data table notebook</a>'\n",
              "            + ' to learn more about interactive tables.';\n",
              "          element.innerHTML = '';\n",
              "          dataTable['output_type'] = 'display_data';\n",
              "          await google.colab.output.renderOutput(dataTable, element);\n",
              "          const docLink = document.createElement('div');\n",
              "          docLink.innerHTML = docLinkHtml;\n",
              "          element.appendChild(docLink);\n",
              "        }\n",
              "      </script>\n",
              "    </div>\n",
              "  </div>\n",
              "  "
            ],
            "text/plain": [
              "   ListingID SellerCity  SellerIsPriv               SellerListSrc  \\\n",
              "0       3287     Warren         False    Inventory Command Center   \n",
              "1       3920      Fargo         False  Cadillac Certified Program   \n",
              "2       4777   Waukesha         False      Jeep Certified Program   \n",
              "\n",
              "                                   SellerName  SellerRating  SellerRevCnt  \\\n",
              "0                                Prime Motorz           5.0            32   \n",
              "1                  Gateway Chevrolet Cadillac           4.8          1456   \n",
              "2  Wilde Chrysler Jeep Dodge Ram &amp; Subaru           4.8          1405   \n",
              "\n",
              "  SellerState  SellerZip VehBodystyle  ...   VehMake VehMileage  \\\n",
              "0          MI    48091.0          SUV  ...      Jeep    39319.0   \n",
              "1          ND    58103.0          SUV  ...  Cadillac    30352.0   \n",
              "2          WI    53186.0          SUV  ...      Jeep    38957.0   \n",
              "\n",
              "         VehModel VehPriceLabel  \\\n",
              "0  Grand Cherokee    Fair Price   \n",
              "1             XT5     Good Deal   \n",
              "2  Grand Cherokee     Good Deal   \n",
              "\n",
              "                                      VehSellerNotes VehType  \\\n",
              "0                                                NaN    Used   \n",
              "1  Come take a look at our great pre-owned invent...    Used   \n",
              "2  Backed by a rigorous 125-point inspection by f...    Used   \n",
              "\n",
              "          VehTransmission VehYear   Vehicle_Trim Dealer_Listing_Price  \n",
              "0       Automatic 8-Speed    2015  High Altitude              30990.0  \n",
              "1                     NaN    2017            NaN              34860.0  \n",
              "2  8-Speed Automatic w/OD    2015         Laredo              23249.0  \n",
              "\n",
              "[3 rows x 29 columns]"
            ]
          },
          "execution_count": 2,
          "metadata": {},
          "output_type": "execute_result"
        }
      ],
      "source": [
        "data = pd.read_csv('Training_DataSet.csv')\n",
        "data.head(3)"
      ]
    },
    {
      "cell_type": "code",
      "execution_count": null,
      "metadata": {
        "colab": {
          "base_uri": "https://localhost:8080/"
        },
        "id": "A_08LDBYt_uE",
        "outputId": "822d6400-016b-42f6-8a2a-7ea08e499eb1"
      },
      "outputs": [
        {
          "data": {
            "text/plain": [
              "False"
            ]
          },
          "execution_count": 3,
          "metadata": {},
          "output_type": "execute_result"
        }
      ],
      "source": [
        "data.duplicated().any()"
      ]
    },
    {
      "cell_type": "code",
      "execution_count": null,
      "metadata": {
        "id": "1KWffSGxtxzK"
      },
      "outputs": [],
      "source": [
        "df = data.copy()\n",
        "df= df.drop('ListingID',axis=1)"
      ]
    },
    {
      "cell_type": "markdown",
      "metadata": {
        "id": "cF2xNN4jFrz2"
      },
      "source": [
        "## Data Exploration Analysis"
      ]
    },
    {
      "cell_type": "markdown",
      "metadata": {
        "id": "kedzC4NNHb2Q"
      },
      "source": [
        "any patterns and relationships between variables? \n",
        "\n",
        "any missing values? \n",
        "\n",
        "any outliers?"
      ]
    },
    {
      "cell_type": "markdown",
      "metadata": {
        "id": "XNfJNjUpWaf_"
      },
      "source": [
        "#### Variable analysis "
      ]
    },
    {
      "cell_type": "code",
      "execution_count": null,
      "metadata": {
        "colab": {
          "base_uri": "https://localhost:8080/"
        },
        "id": "CeLFi1B0WfTg",
        "outputId": "7fffc9de-c3a3-48ce-ebac-65d3604047f6"
      },
      "outputs": [
        {
          "name": "stdout",
          "output_type": "stream",
          "text": [
            "<class 'pandas.core.frame.DataFrame'>\n",
            "RangeIndex: 6298 entries, 0 to 6297\n",
            "Data columns (total 28 columns):\n",
            " #   Column                Non-Null Count  Dtype  \n",
            "---  ------                --------------  -----  \n",
            " 0   SellerCity            6298 non-null   object \n",
            " 1   SellerIsPriv          6298 non-null   bool   \n",
            " 2   SellerListSrc         6296 non-null   object \n",
            " 3   SellerName            6298 non-null   object \n",
            " 4   SellerRating          6298 non-null   float64\n",
            " 5   SellerRevCnt          6298 non-null   int64  \n",
            " 6   SellerState           6298 non-null   object \n",
            " 7   SellerZip             6296 non-null   float64\n",
            " 8   VehBodystyle          6298 non-null   object \n",
            " 9   VehCertified          6298 non-null   bool   \n",
            " 10  VehColorExt           6225 non-null   object \n",
            " 11  VehColorInt           5570 non-null   object \n",
            " 12  VehDriveTrain         5897 non-null   object \n",
            " 13  VehEngine             5937 non-null   object \n",
            " 14  VehFeats              6023 non-null   object \n",
            " 15  VehFuel               6296 non-null   object \n",
            " 16  VehHistory            6097 non-null   object \n",
            " 17  VehListdays           6296 non-null   float64\n",
            " 18  VehMake               6298 non-null   object \n",
            " 19  VehMileage            6296 non-null   float64\n",
            " 20  VehModel              6298 non-null   object \n",
            " 21  VehPriceLabel         6013 non-null   object \n",
            " 22  VehSellerNotes        6055 non-null   object \n",
            " 23  VehType               6298 non-null   object \n",
            " 24  VehTransmission       6101 non-null   object \n",
            " 25  VehYear               6298 non-null   int64  \n",
            " 26  Vehicle_Trim          5893 non-null   object \n",
            " 27  Dealer_Listing_Price  6246 non-null   float64\n",
            "dtypes: bool(2), float64(5), int64(2), object(19)\n",
            "memory usage: 1.3+ MB\n"
          ]
        }
      ],
      "source": [
        "df.info()"
      ]
    },
    {
      "cell_type": "markdown",
      "metadata": {
        "id": "l0UrLHRe9ayn"
      },
      "source": [
        "listing price is highly related to \n",
        "Engines,features, make, model,mileage seller name, color exi and color int\n",
        "\n"
      ]
    },
    {
      "cell_type": "markdown",
      "metadata": {
        "id": "UabCbQqXBQlt"
      },
      "source": [
        "From the distribution of the price, we can see that the max and mean values are 85k and 32k, which are not that much of difference in terms of car price. Thus, we don't consider any outliers. "
      ]
    },
    {
      "cell_type": "markdown",
      "metadata": {
        "id": "tra5MHY0WrA7"
      },
      "source": [
        "### Missing Values"
      ]
    },
    {
      "cell_type": "code",
      "execution_count": null,
      "metadata": {
        "colab": {
          "base_uri": "https://localhost:8080/",
          "height": 677
        },
        "id": "7rIspGRJWwMg",
        "outputId": "8c27027c-e7e3-4f9d-cf14-ef3bb96975e7"
      },
      "outputs": [
        {
          "data": {
            "text/html": [
              "\n",
              "  <div id=\"df-1cc2fe11-7831-4088-a8e4-670e0e319eaa\">\n",
              "    <div class=\"colab-df-container\">\n",
              "      <div>\n",
              "<style scoped>\n",
              "    .dataframe tbody tr th:only-of-type {\n",
              "        vertical-align: middle;\n",
              "    }\n",
              "\n",
              "    .dataframe tbody tr th {\n",
              "        vertical-align: top;\n",
              "    }\n",
              "\n",
              "    .dataframe thead th {\n",
              "        text-align: right;\n",
              "    }\n",
              "</style>\n",
              "<table border=\"1\" class=\"dataframe\">\n",
              "  <thead>\n",
              "    <tr style=\"text-align: right;\">\n",
              "      <th></th>\n",
              "      <th>Total</th>\n",
              "      <th>Percent</th>\n",
              "    </tr>\n",
              "  </thead>\n",
              "  <tbody>\n",
              "    <tr>\n",
              "      <th>VehColorInt</th>\n",
              "      <td>728</td>\n",
              "      <td>0.115592</td>\n",
              "    </tr>\n",
              "    <tr>\n",
              "      <th>Vehicle_Trim</th>\n",
              "      <td>405</td>\n",
              "      <td>0.064306</td>\n",
              "    </tr>\n",
              "    <tr>\n",
              "      <th>VehDriveTrain</th>\n",
              "      <td>401</td>\n",
              "      <td>0.063671</td>\n",
              "    </tr>\n",
              "    <tr>\n",
              "      <th>VehEngine</th>\n",
              "      <td>361</td>\n",
              "      <td>0.057320</td>\n",
              "    </tr>\n",
              "    <tr>\n",
              "      <th>VehPriceLabel</th>\n",
              "      <td>285</td>\n",
              "      <td>0.045252</td>\n",
              "    </tr>\n",
              "    <tr>\n",
              "      <th>VehFeats</th>\n",
              "      <td>275</td>\n",
              "      <td>0.043665</td>\n",
              "    </tr>\n",
              "    <tr>\n",
              "      <th>VehSellerNotes</th>\n",
              "      <td>243</td>\n",
              "      <td>0.038584</td>\n",
              "    </tr>\n",
              "    <tr>\n",
              "      <th>VehHistory</th>\n",
              "      <td>201</td>\n",
              "      <td>0.031915</td>\n",
              "    </tr>\n",
              "    <tr>\n",
              "      <th>VehTransmission</th>\n",
              "      <td>197</td>\n",
              "      <td>0.031280</td>\n",
              "    </tr>\n",
              "    <tr>\n",
              "      <th>VehColorExt</th>\n",
              "      <td>73</td>\n",
              "      <td>0.011591</td>\n",
              "    </tr>\n",
              "    <tr>\n",
              "      <th>Dealer_Listing_Price</th>\n",
              "      <td>52</td>\n",
              "      <td>0.008257</td>\n",
              "    </tr>\n",
              "    <tr>\n",
              "      <th>VehMileage</th>\n",
              "      <td>2</td>\n",
              "      <td>0.000318</td>\n",
              "    </tr>\n",
              "    <tr>\n",
              "      <th>SellerZip</th>\n",
              "      <td>2</td>\n",
              "      <td>0.000318</td>\n",
              "    </tr>\n",
              "    <tr>\n",
              "      <th>SellerListSrc</th>\n",
              "      <td>2</td>\n",
              "      <td>0.000318</td>\n",
              "    </tr>\n",
              "    <tr>\n",
              "      <th>VehFuel</th>\n",
              "      <td>2</td>\n",
              "      <td>0.000318</td>\n",
              "    </tr>\n",
              "    <tr>\n",
              "      <th>VehListdays</th>\n",
              "      <td>2</td>\n",
              "      <td>0.000318</td>\n",
              "    </tr>\n",
              "    <tr>\n",
              "      <th>SellerRevCnt</th>\n",
              "      <td>0</td>\n",
              "      <td>0.000000</td>\n",
              "    </tr>\n",
              "    <tr>\n",
              "      <th>VehYear</th>\n",
              "      <td>0</td>\n",
              "      <td>0.000000</td>\n",
              "    </tr>\n",
              "    <tr>\n",
              "      <th>SellerName</th>\n",
              "      <td>0</td>\n",
              "      <td>0.000000</td>\n",
              "    </tr>\n",
              "    <tr>\n",
              "      <th>VehType</th>\n",
              "      <td>0</td>\n",
              "      <td>0.000000</td>\n",
              "    </tr>\n",
              "  </tbody>\n",
              "</table>\n",
              "</div>\n",
              "      <button class=\"colab-df-convert\" onclick=\"convertToInteractive('df-1cc2fe11-7831-4088-a8e4-670e0e319eaa')\"\n",
              "              title=\"Convert this dataframe to an interactive table.\"\n",
              "              style=\"display:none;\">\n",
              "        \n",
              "  <svg xmlns=\"http://www.w3.org/2000/svg\" height=\"24px\"viewBox=\"0 0 24 24\"\n",
              "       width=\"24px\">\n",
              "    <path d=\"M0 0h24v24H0V0z\" fill=\"none\"/>\n",
              "    <path d=\"M18.56 5.44l.94 2.06.94-2.06 2.06-.94-2.06-.94-.94-2.06-.94 2.06-2.06.94zm-11 1L8.5 8.5l.94-2.06 2.06-.94-2.06-.94L8.5 2.5l-.94 2.06-2.06.94zm10 10l.94 2.06.94-2.06 2.06-.94-2.06-.94-.94-2.06-.94 2.06-2.06.94z\"/><path d=\"M17.41 7.96l-1.37-1.37c-.4-.4-.92-.59-1.43-.59-.52 0-1.04.2-1.43.59L10.3 9.45l-7.72 7.72c-.78.78-.78 2.05 0 2.83L4 21.41c.39.39.9.59 1.41.59.51 0 1.02-.2 1.41-.59l7.78-7.78 2.81-2.81c.8-.78.8-2.07 0-2.86zM5.41 20L4 18.59l7.72-7.72 1.47 1.35L5.41 20z\"/>\n",
              "  </svg>\n",
              "      </button>\n",
              "      \n",
              "  <style>\n",
              "    .colab-df-container {\n",
              "      display:flex;\n",
              "      flex-wrap:wrap;\n",
              "      gap: 12px;\n",
              "    }\n",
              "\n",
              "    .colab-df-convert {\n",
              "      background-color: #E8F0FE;\n",
              "      border: none;\n",
              "      border-radius: 50%;\n",
              "      cursor: pointer;\n",
              "      display: none;\n",
              "      fill: #1967D2;\n",
              "      height: 32px;\n",
              "      padding: 0 0 0 0;\n",
              "      width: 32px;\n",
              "    }\n",
              "\n",
              "    .colab-df-convert:hover {\n",
              "      background-color: #E2EBFA;\n",
              "      box-shadow: 0px 1px 2px rgba(60, 64, 67, 0.3), 0px 1px 3px 1px rgba(60, 64, 67, 0.15);\n",
              "      fill: #174EA6;\n",
              "    }\n",
              "\n",
              "    [theme=dark] .colab-df-convert {\n",
              "      background-color: #3B4455;\n",
              "      fill: #D2E3FC;\n",
              "    }\n",
              "\n",
              "    [theme=dark] .colab-df-convert:hover {\n",
              "      background-color: #434B5C;\n",
              "      box-shadow: 0px 1px 3px 1px rgba(0, 0, 0, 0.15);\n",
              "      filter: drop-shadow(0px 1px 2px rgba(0, 0, 0, 0.3));\n",
              "      fill: #FFFFFF;\n",
              "    }\n",
              "  </style>\n",
              "\n",
              "      <script>\n",
              "        const buttonEl =\n",
              "          document.querySelector('#df-1cc2fe11-7831-4088-a8e4-670e0e319eaa button.colab-df-convert');\n",
              "        buttonEl.style.display =\n",
              "          google.colab.kernel.accessAllowed ? 'block' : 'none';\n",
              "\n",
              "        async function convertToInteractive(key) {\n",
              "          const element = document.querySelector('#df-1cc2fe11-7831-4088-a8e4-670e0e319eaa');\n",
              "          const dataTable =\n",
              "            await google.colab.kernel.invokeFunction('convertToInteractive',\n",
              "                                                     [key], {});\n",
              "          if (!dataTable) return;\n",
              "\n",
              "          const docLinkHtml = 'Like what you see? Visit the ' +\n",
              "            '<a target=\"_blank\" href=https://colab.research.google.com/notebooks/data_table.ipynb>data table notebook</a>'\n",
              "            + ' to learn more about interactive tables.';\n",
              "          element.innerHTML = '';\n",
              "          dataTable['output_type'] = 'display_data';\n",
              "          await google.colab.output.renderOutput(dataTable, element);\n",
              "          const docLink = document.createElement('div');\n",
              "          docLink.innerHTML = docLinkHtml;\n",
              "          element.appendChild(docLink);\n",
              "        }\n",
              "      </script>\n",
              "    </div>\n",
              "  </div>\n",
              "  "
            ],
            "text/plain": [
              "                      Total   Percent\n",
              "VehColorInt             728  0.115592\n",
              "Vehicle_Trim            405  0.064306\n",
              "VehDriveTrain           401  0.063671\n",
              "VehEngine               361  0.057320\n",
              "VehPriceLabel           285  0.045252\n",
              "VehFeats                275  0.043665\n",
              "VehSellerNotes          243  0.038584\n",
              "VehHistory              201  0.031915\n",
              "VehTransmission         197  0.031280\n",
              "VehColorExt              73  0.011591\n",
              "Dealer_Listing_Price     52  0.008257\n",
              "VehMileage                2  0.000318\n",
              "SellerZip                 2  0.000318\n",
              "SellerListSrc             2  0.000318\n",
              "VehFuel                   2  0.000318\n",
              "VehListdays               2  0.000318\n",
              "SellerRevCnt              0  0.000000\n",
              "VehYear                   0  0.000000\n",
              "SellerName                0  0.000000\n",
              "VehType                   0  0.000000"
            ]
          },
          "execution_count": 7,
          "metadata": {},
          "output_type": "execute_result"
        }
      ],
      "source": [
        "total = df.isnull().sum().sort_values(ascending=False)\n",
        "percent = (df.isnull().sum()/df.isnull().count()).sort_values(ascending=False)\n",
        "missing_data = pd.concat([total, percent], axis=1, keys=['Total', 'Percent'])\n",
        "missing_data.head(20)"
      ]
    },
    {
      "cell_type": "code",
      "execution_count": null,
      "metadata": {
        "id": "y02znbKijtyW"
      },
      "outputs": [],
      "source": [
        "df= df[df['VehHistory'].notna()]\n",
        "df= df[df['VehFeats'].notna()]\n",
        "df= df[df['VehSellerNotes'].notna()]\n",
        "df= df[df['Dealer_Listing_Price'].notna()]\n",
        "df= df[df['Vehicle_Trim'].notna()]"
      ]
    },
    {
      "cell_type": "code",
      "execution_count": null,
      "metadata": {
        "colab": {
          "base_uri": "https://localhost:8080/"
        },
        "id": "bgeErn7Pjj6Z",
        "outputId": "62299a41-667e-4582-b024-f887783c12d3"
      },
      "outputs": [
        {
          "data": {
            "text/plain": [
              "657     Other\n",
              "1973    Other\n",
              "2055    Other\n",
              "3512    Other\n",
              "5483    Other\n",
              "Name: VehColorInt, dtype: object"
            ]
          },
          "execution_count": 9,
          "metadata": {},
          "output_type": "execute_result"
        }
      ],
      "source": [
        "data['VehColorInt'].loc[data['VehColorInt'] == 'Other']"
      ]
    },
    {
      "cell_type": "code",
      "execution_count": null,
      "metadata": {
        "id": "xmz0wB9po6a9"
      },
      "outputs": [],
      "source": [
        "df['VehFuel'] = df.VehFuel.fillna('Unknown')\n",
        "df['VehColorExt'] = df.VehColorExt.fillna('Other')\n",
        "df['VehColorInt'] = df.VehColorInt.fillna('Other')\n",
        "df['VehTransmission'] = df.VehTransmission.fillna('Not Specified')\n",
        "\n",
        "df['SellerZip'] = df['SellerZip'].fillna(method='ffill')\n",
        "df['SellerListSrc'] = df['SellerListSrc'].fillna(method='ffill')\n",
        "df['VehDriveTrain'] = df['VehDriveTrain'].fillna(method='ffill')\n",
        "df['VehEngine'] = df['VehEngine'].fillna(method='ffill')\n",
        "df['VehPriceLabel'] = df['VehPriceLabel'].fillna(method='ffill')\n",
        "\n",
        "df['VehMileage'] = df.VehMileage.fillna(df.VehMileage.mean())\n",
        "df['Dealer_Listing_Price'] = df.Dealer_Listing_Price.fillna(df.Dealer_Listing_Price.mean())\n",
        "df['VehListdays'] = df.VehListdays.fillna(df.VehListdays.mean())\n"
      ]
    },
    {
      "cell_type": "markdown",
      "metadata": {
        "id": "F-mwVRHT_sNh"
      },
      "source": [
        "## Feature Eng"
      ]
    },
    {
      "cell_type": "markdown",
      "metadata": {
        "id": "2Mn9o4BauHcN"
      },
      "source": [
        "### Continous"
      ]
    },
    {
      "cell_type": "code",
      "execution_count": null,
      "metadata": {
        "colab": {
          "base_uri": "https://localhost:8080/",
          "height": 300
        },
        "id": "YNsrmt07RYm1",
        "outputId": "2b16fa51-751d-4667-9bb8-41313985d4e5"
      },
      "outputs": [
        {
          "data": {
            "text/html": [
              "\n",
              "  <div id=\"df-26950aa3-188a-41cd-9cba-aa4de7d8a1c8\">\n",
              "    <div class=\"colab-df-container\">\n",
              "      <div>\n",
              "<style scoped>\n",
              "    .dataframe tbody tr th:only-of-type {\n",
              "        vertical-align: middle;\n",
              "    }\n",
              "\n",
              "    .dataframe tbody tr th {\n",
              "        vertical-align: top;\n",
              "    }\n",
              "\n",
              "    .dataframe thead th {\n",
              "        text-align: right;\n",
              "    }\n",
              "</style>\n",
              "<table border=\"1\" class=\"dataframe\">\n",
              "  <thead>\n",
              "    <tr style=\"text-align: right;\">\n",
              "      <th></th>\n",
              "      <th>SellerRating</th>\n",
              "      <th>SellerRevCnt</th>\n",
              "      <th>SellerZip</th>\n",
              "      <th>VehListdays</th>\n",
              "      <th>VehMileage</th>\n",
              "      <th>VehYear</th>\n",
              "      <th>Dealer_Listing_Price</th>\n",
              "    </tr>\n",
              "  </thead>\n",
              "  <tbody>\n",
              "    <tr>\n",
              "      <th>count</th>\n",
              "      <td>5567.000000</td>\n",
              "      <td>5567.000000</td>\n",
              "      <td>5567.000000</td>\n",
              "      <td>5567.000000</td>\n",
              "      <td>5567.000000</td>\n",
              "      <td>5567.000000</td>\n",
              "      <td>5567.000000</td>\n",
              "    </tr>\n",
              "    <tr>\n",
              "      <th>mean</th>\n",
              "      <td>4.181696</td>\n",
              "      <td>460.549129</td>\n",
              "      <td>45231.601581</td>\n",
              "      <td>56.729619</td>\n",
              "      <td>26483.568529</td>\n",
              "      <td>2016.778516</td>\n",
              "      <td>32092.161308</td>\n",
              "    </tr>\n",
              "    <tr>\n",
              "      <th>std</th>\n",
              "      <td>1.109681</td>\n",
              "      <td>1341.472972</td>\n",
              "      <td>20014.312425</td>\n",
              "      <td>67.117143</td>\n",
              "      <td>13014.968434</td>\n",
              "      <td>1.209163</td>\n",
              "      <td>7584.119965</td>\n",
              "    </tr>\n",
              "    <tr>\n",
              "      <th>min</th>\n",
              "      <td>0.000000</td>\n",
              "      <td>0.000000</td>\n",
              "      <td>1105.000000</td>\n",
              "      <td>1.676551</td>\n",
              "      <td>0.000000</td>\n",
              "      <td>2015.000000</td>\n",
              "      <td>18289.000000</td>\n",
              "    </tr>\n",
              "    <tr>\n",
              "      <th>25%</th>\n",
              "      <td>4.000000</td>\n",
              "      <td>31.000000</td>\n",
              "      <td>29627.500000</td>\n",
              "      <td>13.987546</td>\n",
              "      <td>17079.000000</td>\n",
              "      <td>2015.000000</td>\n",
              "      <td>26795.500000</td>\n",
              "    </tr>\n",
              "    <tr>\n",
              "      <th>50%</th>\n",
              "      <td>4.600000</td>\n",
              "      <td>141.000000</td>\n",
              "      <td>46545.000000</td>\n",
              "      <td>34.482361</td>\n",
              "      <td>26181.000000</td>\n",
              "      <td>2017.000000</td>\n",
              "      <td>31000.000000</td>\n",
              "    </tr>\n",
              "    <tr>\n",
              "      <th>75%</th>\n",
              "      <td>4.800000</td>\n",
              "      <td>422.500000</td>\n",
              "      <td>60120.000000</td>\n",
              "      <td>75.210880</td>\n",
              "      <td>36655.000000</td>\n",
              "      <td>2018.000000</td>\n",
              "      <td>35850.000000</td>\n",
              "    </tr>\n",
              "    <tr>\n",
              "      <th>max</th>\n",
              "      <td>5.000000</td>\n",
              "      <td>14635.000000</td>\n",
              "      <td>99654.000000</td>\n",
              "      <td>820.684375</td>\n",
              "      <td>83037.000000</td>\n",
              "      <td>2019.000000</td>\n",
              "      <td>89500.000000</td>\n",
              "    </tr>\n",
              "  </tbody>\n",
              "</table>\n",
              "</div>\n",
              "      <button class=\"colab-df-convert\" onclick=\"convertToInteractive('df-26950aa3-188a-41cd-9cba-aa4de7d8a1c8')\"\n",
              "              title=\"Convert this dataframe to an interactive table.\"\n",
              "              style=\"display:none;\">\n",
              "        \n",
              "  <svg xmlns=\"http://www.w3.org/2000/svg\" height=\"24px\"viewBox=\"0 0 24 24\"\n",
              "       width=\"24px\">\n",
              "    <path d=\"M0 0h24v24H0V0z\" fill=\"none\"/>\n",
              "    <path d=\"M18.56 5.44l.94 2.06.94-2.06 2.06-.94-2.06-.94-.94-2.06-.94 2.06-2.06.94zm-11 1L8.5 8.5l.94-2.06 2.06-.94-2.06-.94L8.5 2.5l-.94 2.06-2.06.94zm10 10l.94 2.06.94-2.06 2.06-.94-2.06-.94-.94-2.06-.94 2.06-2.06.94z\"/><path d=\"M17.41 7.96l-1.37-1.37c-.4-.4-.92-.59-1.43-.59-.52 0-1.04.2-1.43.59L10.3 9.45l-7.72 7.72c-.78.78-.78 2.05 0 2.83L4 21.41c.39.39.9.59 1.41.59.51 0 1.02-.2 1.41-.59l7.78-7.78 2.81-2.81c.8-.78.8-2.07 0-2.86zM5.41 20L4 18.59l7.72-7.72 1.47 1.35L5.41 20z\"/>\n",
              "  </svg>\n",
              "      </button>\n",
              "      \n",
              "  <style>\n",
              "    .colab-df-container {\n",
              "      display:flex;\n",
              "      flex-wrap:wrap;\n",
              "      gap: 12px;\n",
              "    }\n",
              "\n",
              "    .colab-df-convert {\n",
              "      background-color: #E8F0FE;\n",
              "      border: none;\n",
              "      border-radius: 50%;\n",
              "      cursor: pointer;\n",
              "      display: none;\n",
              "      fill: #1967D2;\n",
              "      height: 32px;\n",
              "      padding: 0 0 0 0;\n",
              "      width: 32px;\n",
              "    }\n",
              "\n",
              "    .colab-df-convert:hover {\n",
              "      background-color: #E2EBFA;\n",
              "      box-shadow: 0px 1px 2px rgba(60, 64, 67, 0.3), 0px 1px 3px 1px rgba(60, 64, 67, 0.15);\n",
              "      fill: #174EA6;\n",
              "    }\n",
              "\n",
              "    [theme=dark] .colab-df-convert {\n",
              "      background-color: #3B4455;\n",
              "      fill: #D2E3FC;\n",
              "    }\n",
              "\n",
              "    [theme=dark] .colab-df-convert:hover {\n",
              "      background-color: #434B5C;\n",
              "      box-shadow: 0px 1px 3px 1px rgba(0, 0, 0, 0.15);\n",
              "      filter: drop-shadow(0px 1px 2px rgba(0, 0, 0, 0.3));\n",
              "      fill: #FFFFFF;\n",
              "    }\n",
              "  </style>\n",
              "\n",
              "      <script>\n",
              "        const buttonEl =\n",
              "          document.querySelector('#df-26950aa3-188a-41cd-9cba-aa4de7d8a1c8 button.colab-df-convert');\n",
              "        buttonEl.style.display =\n",
              "          google.colab.kernel.accessAllowed ? 'block' : 'none';\n",
              "\n",
              "        async function convertToInteractive(key) {\n",
              "          const element = document.querySelector('#df-26950aa3-188a-41cd-9cba-aa4de7d8a1c8');\n",
              "          const dataTable =\n",
              "            await google.colab.kernel.invokeFunction('convertToInteractive',\n",
              "                                                     [key], {});\n",
              "          if (!dataTable) return;\n",
              "\n",
              "          const docLinkHtml = 'Like what you see? Visit the ' +\n",
              "            '<a target=\"_blank\" href=https://colab.research.google.com/notebooks/data_table.ipynb>data table notebook</a>'\n",
              "            + ' to learn more about interactive tables.';\n",
              "          element.innerHTML = '';\n",
              "          dataTable['output_type'] = 'display_data';\n",
              "          await google.colab.output.renderOutput(dataTable, element);\n",
              "          const docLink = document.createElement('div');\n",
              "          docLink.innerHTML = docLinkHtml;\n",
              "          element.appendChild(docLink);\n",
              "        }\n",
              "      </script>\n",
              "    </div>\n",
              "  </div>\n",
              "  "
            ],
            "text/plain": [
              "       SellerRating  SellerRevCnt     SellerZip  VehListdays    VehMileage  \\\n",
              "count   5567.000000   5567.000000   5567.000000  5567.000000   5567.000000   \n",
              "mean       4.181696    460.549129  45231.601581    56.729619  26483.568529   \n",
              "std        1.109681   1341.472972  20014.312425    67.117143  13014.968434   \n",
              "min        0.000000      0.000000   1105.000000     1.676551      0.000000   \n",
              "25%        4.000000     31.000000  29627.500000    13.987546  17079.000000   \n",
              "50%        4.600000    141.000000  46545.000000    34.482361  26181.000000   \n",
              "75%        4.800000    422.500000  60120.000000    75.210880  36655.000000   \n",
              "max        5.000000  14635.000000  99654.000000   820.684375  83037.000000   \n",
              "\n",
              "           VehYear  Dealer_Listing_Price  \n",
              "count  5567.000000           5567.000000  \n",
              "mean   2016.778516          32092.161308  \n",
              "std       1.209163           7584.119965  \n",
              "min    2015.000000          18289.000000  \n",
              "25%    2015.000000          26795.500000  \n",
              "50%    2017.000000          31000.000000  \n",
              "75%    2018.000000          35850.000000  \n",
              "max    2019.000000          89500.000000  "
            ]
          },
          "execution_count": 11,
          "metadata": {},
          "output_type": "execute_result"
        }
      ],
      "source": [
        "df.describe()"
      ]
    },
    {
      "cell_type": "code",
      "execution_count": null,
      "metadata": {
        "colab": {
          "base_uri": "https://localhost:8080/",
          "height": 872
        },
        "id": "8cBdy-2qtnbt",
        "outputId": "0c7e548a-4529-4ab5-ea9c-0964548cc2d5"
      },
      "outputs": [
        {
          "data": {
            "text/plain": [
              "array([[<matplotlib.axes._subplots.AxesSubplot object at 0x7efccba50550>,\n",
              "        <matplotlib.axes._subplots.AxesSubplot object at 0x7efccba1dc90>,\n",
              "        <matplotlib.axes._subplots.AxesSubplot object at 0x7efccb9db310>,\n",
              "        <matplotlib.axes._subplots.AxesSubplot object at 0x7efccb994950>],\n",
              "       [<matplotlib.axes._subplots.AxesSubplot object at 0x7efccb94bf50>,\n",
              "        <matplotlib.axes._subplots.AxesSubplot object at 0x7efccb90d590>,\n",
              "        <matplotlib.axes._subplots.AxesSubplot object at 0x7efccb8c3c10>,\n",
              "        <matplotlib.axes._subplots.AxesSubplot object at 0x7efccb885190>]],\n",
              "      dtype=object)"
            ]
          },
          "execution_count": 12,
          "metadata": {},
          "output_type": "execute_result"
        },
        {
          "data": {
            "image/png": "[encoded data removed]",
            "text/plain": [
              "<Figure size 1440x864 with 8 Axes>"
            ]
          },
          "metadata": {},
          "output_type": "display_data"
        }
      ],
      "source": [
        "df.hist(figsize=(20,12),layout=(2,4))"
      ]
    },
    {
      "cell_type": "markdown",
      "metadata": {
        "id": "nl1OIx1BS4Y5"
      },
      "source": [
        "Outliers"
      ]
    },
    {
      "cell_type": "code",
      "execution_count": null,
      "metadata": {
        "colab": {
          "base_uri": "https://localhost:8080/",
          "height": 300
        },
        "id": "nUf4-9Q3Yn3P",
        "outputId": "e8944d94-6c37-4ada-cc17-6cf01cab73bd"
      },
      "outputs": [
        {
          "name": "stdout",
          "output_type": "stream",
          "text": [
            "SellerRevCnt above 4k is 77\n"
          ]
        },
        {
          "data": {
            "text/plain": [
              "<matplotlib.axes._subplots.AxesSubplot at 0x7efccb868b10>"
            ]
          },
          "execution_count": 13,
          "metadata": {},
          "output_type": "execute_result"
        },
        {
          "data": {
            "image/png": "[encoded data removed]",
            "text/plain": [
              "<Figure size 432x288 with 1 Axes>"
            ]
          },
          "metadata": {},
          "output_type": "display_data"
        }
      ],
      "source": [
        "print('SellerRevCnt above 4k is', len(df[df['SellerRevCnt']>=4000]))\n",
        "df['SellerRevCnt'] = np.where(df['SellerRevCnt'] >= 4000, df['SellerRevCnt'].mean(), df['SellerRevCnt'])\n",
        "df.SellerRevCnt.hist()"
      ]
    },
    {
      "cell_type": "markdown",
      "metadata": {
        "id": "_B9SDFNJU3nC"
      },
      "source": [
        "Linear relationship with price"
      ]
    },
    {
      "cell_type": "code",
      "execution_count": null,
      "metadata": {
        "colab": {
          "base_uri": "https://localhost:8080/",
          "height": 426
        },
        "id": "maQH5aL-TWHp",
        "outputId": "53f1a7c2-3295-4b7c-86ef-943bd69093ed"
      },
      "outputs": [
        {
          "data": {
            "image/png": "[encoded data removed]",
            "text/plain": [
              "<Figure size 2160x576 with 5 Axes>"
            ]
          },
          "metadata": {},
          "output_type": "display_data"
        }
      ],
      "source": [
        "sns.set(rc = {'figure.figsize':(30,8)})\n",
        "fig, ax =plt.subplots(1,5)\n",
        "\n",
        "sns.regplot(x=\"VehMileage\", y=\"Dealer_Listing_Price\", data=df, ax=ax[0])\n",
        "sns.regplot(x=\"VehYear\", y=\"Dealer_Listing_Price\", data=df,x_estimator=np.mean, ax=ax[1])\n",
        "sns.regplot(x=\"SellerRating\", y=\"Dealer_Listing_Price\", data=df, ax=ax[2])\n",
        "sns.regplot(x=\"SellerRevCnt\", y=\"Dealer_Listing_Price\", data=df, ax=ax[3])\n",
        "sns.regplot(x=\"VehListdays\", y=\"Dealer_Listing_Price\", data=df, ax=ax[4])\n",
        "\n",
        "plt.xticks(rotation=45, horizontalalignment='right')\n",
        "fig.show()"
      ]
    },
    {
      "cell_type": "markdown",
      "metadata": {
        "id": "2B1U1lyw_46m"
      },
      "source": [
        "### Categorical"
      ]
    },
    {
      "cell_type": "markdown",
      "metadata": {
        "id": "W3v_Gk83tF8s"
      },
      "source": [
        "Vehicle_Trim"
      ]
    },
    {
      "cell_type": "code",
      "execution_count": null,
      "metadata": {
        "colab": {
          "base_uri": "https://localhost:8080/"
        },
        "id": "kU8d_LwNtEwL",
        "outputId": "0d6ac907-2402-4066-d8a4-985b9fa71cd0"
      },
      "outputs": [
        {
          "data": {
            "text/plain": [
              "limited             1838\n",
              "premium              761\n",
              "laredo               721\n",
              "luxury               667\n",
              "overland             373\n",
              "altitude             354\n",
              "summit               222\n",
              "base                 200\n",
              "trailhawk            164\n",
              "platinum             137\n",
              "srt                   72\n",
              "trackhawk             29\n",
              "sterling edition      26\n",
              "upland                 3\n",
              "Name: Vehicle_Trim, dtype: int64"
            ]
          },
          "execution_count": 97,
          "metadata": {},
          "output_type": "execute_result"
        }
      ],
      "source": [
        "df[\"Vehicle_Trim\"] = df[\"Vehicle_Trim\"].str.lower()\n",
        "df.Vehicle_Trim.value_counts()"
      ]
    },
    {
      "cell_type": "code",
      "execution_count": null,
      "metadata": {
        "id": "UxWq7g2sthFV"
      },
      "outputs": [],
      "source": [
        "df[\"Vehicle_Trim\"]=df[\"Vehicle_Trim\"].mask(df[\"Vehicle_Trim\"].str.contains('limited', regex=False),'limited')\n",
        "df[\"Vehicle_Trim\"]=df[\"Vehicle_Trim\"].mask(df[\"Vehicle_Trim\"].str.contains('anniversary', regex=False),'limited')\n",
        "df[\"Vehicle_Trim\"]=df[\"Vehicle_Trim\"].mask(df[\"Vehicle_Trim\"].str.contains('premium', regex=False),'premium')\n",
        "df[\"Vehicle_Trim\"]=df[\"Vehicle_Trim\"].mask(df[\"Vehicle_Trim\"].str.contains('altitude', regex=False),'altitude')\n",
        "df[\"Vehicle_Trim\"]=df[\"Vehicle_Trim\"].mask(df[\"Vehicle_Trim\"].str.contains('srt', regex=False),'srt')\n",
        "df[\"Vehicle_Trim\"]=df[\"Vehicle_Trim\"].mask(df[\"Vehicle_Trim\"].str.contains('luxury', regex=False),'luxury')\n",
        "df[\"Vehicle_Trim\"]=df[\"Vehicle_Trim\"].mask(df[\"Vehicle_Trim\"].str.contains('laredo', regex=False),'laredo')\n",
        "df[\"Vehicle_Trim\"]=df[\"Vehicle_Trim\"].mask(df[\"Vehicle_Trim\"].str.contains('platinum', regex=False),'platinum')\n",
        "df[\"Vehicle_Trim\"]=df[\"Vehicle_Trim\"].mask(df[\"Vehicle_Trim\"].str.contains('fwd', regex=False),'base')"
      ]
    },
    {
      "cell_type": "markdown",
      "metadata": {
        "id": "G6ltoP3JUqhp"
      },
      "source": [
        "#### SellerIsPriv\n",
        "\n",
        "when seller is private, there is either veh history nor veh feature data ava\n"
      ]
    },
    {
      "cell_type": "code",
      "execution_count": null,
      "metadata": {
        "colab": {
          "base_uri": "https://localhost:8080/"
        },
        "id": "QvNDs4bKSAqL",
        "outputId": "79fd411a-26e4-4429-c13d-8d1b606e2032"
      },
      "outputs": [
        {
          "data": {
            "text/plain": [
              "False    6284\n",
              "True       14\n",
              "Name: SellerIsPriv, dtype: int64"
            ]
          },
          "execution_count": 15,
          "metadata": {},
          "output_type": "execute_result"
        }
      ],
      "source": [
        "data.SellerIsPriv.value_counts()"
      ]
    },
    {
      "cell_type": "code",
      "execution_count": null,
      "metadata": {
        "colab": {
          "base_uri": "https://localhost:8080/",
          "height": 488
        },
        "id": "hsMgGZk8S1OE",
        "outputId": "aaaa252b-2d52-4c24-a176-2ffce8b34a5b"
      },
      "outputs": [
        {
          "data": {
            "text/html": [
              "\n",
              "  <div id=\"df-f78d3cd7-73fc-459c-b3df-785ee85a1831\">\n",
              "    <div class=\"colab-df-container\">\n",
              "      <div>\n",
              "<style scoped>\n",
              "    .dataframe tbody tr th:only-of-type {\n",
              "        vertical-align: middle;\n",
              "    }\n",
              "\n",
              "    .dataframe tbody tr th {\n",
              "        vertical-align: top;\n",
              "    }\n",
              "\n",
              "    .dataframe thead th {\n",
              "        text-align: right;\n",
              "    }\n",
              "</style>\n",
              "<table border=\"1\" class=\"dataframe\">\n",
              "  <thead>\n",
              "    <tr style=\"text-align: right;\">\n",
              "      <th></th>\n",
              "      <th>SellerCity</th>\n",
              "      <th>SellerName</th>\n",
              "      <th>SellerIsPriv</th>\n",
              "      <th>VehHistory</th>\n",
              "      <th>VehFeats</th>\n",
              "    </tr>\n",
              "  </thead>\n",
              "  <tbody>\n",
              "    <tr>\n",
              "      <th>312</th>\n",
              "      <td>Chicago</td>\n",
              "      <td>Kenneth</td>\n",
              "      <td>True</td>\n",
              "      <td>NaN</td>\n",
              "      <td>NaN</td>\n",
              "    </tr>\n",
              "    <tr>\n",
              "      <th>993</th>\n",
              "      <td>Rochester</td>\n",
              "      <td>SCOTT</td>\n",
              "      <td>True</td>\n",
              "      <td>NaN</td>\n",
              "      <td>NaN</td>\n",
              "    </tr>\n",
              "    <tr>\n",
              "      <th>1001</th>\n",
              "      <td>Battle Creek</td>\n",
              "      <td>Craig</td>\n",
              "      <td>True</td>\n",
              "      <td>NaN</td>\n",
              "      <td>NaN</td>\n",
              "    </tr>\n",
              "    <tr>\n",
              "      <th>1402</th>\n",
              "      <td>Painesville</td>\n",
              "      <td>Matt</td>\n",
              "      <td>True</td>\n",
              "      <td>NaN</td>\n",
              "      <td>NaN</td>\n",
              "    </tr>\n",
              "    <tr>\n",
              "      <th>1798</th>\n",
              "      <td>Mercersburg</td>\n",
              "      <td>Amanda</td>\n",
              "      <td>True</td>\n",
              "      <td>NaN</td>\n",
              "      <td>NaN</td>\n",
              "    </tr>\n",
              "    <tr>\n",
              "      <th>2000</th>\n",
              "      <td>Lake Stevens</td>\n",
              "      <td>Dan</td>\n",
              "      <td>True</td>\n",
              "      <td>NaN</td>\n",
              "      <td>NaN</td>\n",
              "    </tr>\n",
              "    <tr>\n",
              "      <th>2197</th>\n",
              "      <td>Oklahoma City</td>\n",
              "      <td>Tim</td>\n",
              "      <td>True</td>\n",
              "      <td>NaN</td>\n",
              "      <td>NaN</td>\n",
              "    </tr>\n",
              "    <tr>\n",
              "      <th>2203</th>\n",
              "      <td>Baltimore</td>\n",
              "      <td>Jeremy</td>\n",
              "      <td>True</td>\n",
              "      <td>NaN</td>\n",
              "      <td>NaN</td>\n",
              "    </tr>\n",
              "    <tr>\n",
              "      <th>3145</th>\n",
              "      <td>York</td>\n",
              "      <td>Shaun</td>\n",
              "      <td>True</td>\n",
              "      <td>NaN</td>\n",
              "      <td>NaN</td>\n",
              "    </tr>\n",
              "    <tr>\n",
              "      <th>3427</th>\n",
              "      <td>Chicago</td>\n",
              "      <td>JERRY CAR CALL OR TEXT 312-259 8999</td>\n",
              "      <td>True</td>\n",
              "      <td>NaN</td>\n",
              "      <td>NaN</td>\n",
              "    </tr>\n",
              "    <tr>\n",
              "      <th>3621</th>\n",
              "      <td>Chicago</td>\n",
              "      <td>Cullen</td>\n",
              "      <td>True</td>\n",
              "      <td>NaN</td>\n",
              "      <td>NaN</td>\n",
              "    </tr>\n",
              "    <tr>\n",
              "      <th>3936</th>\n",
              "      <td>Columbia</td>\n",
              "      <td>Harry</td>\n",
              "      <td>True</td>\n",
              "      <td>NaN</td>\n",
              "      <td>NaN</td>\n",
              "    </tr>\n",
              "    <tr>\n",
              "      <th>6254</th>\n",
              "      <td>Greensboro</td>\n",
              "      <td>Jon</td>\n",
              "      <td>True</td>\n",
              "      <td>NaN</td>\n",
              "      <td>NaN</td>\n",
              "    </tr>\n",
              "    <tr>\n",
              "      <th>6293</th>\n",
              "      <td>Dearborn</td>\n",
              "      <td>Abe</td>\n",
              "      <td>True</td>\n",
              "      <td>NaN</td>\n",
              "      <td>NaN</td>\n",
              "    </tr>\n",
              "  </tbody>\n",
              "</table>\n",
              "</div>\n",
              "      <button class=\"colab-df-convert\" onclick=\"convertToInteractive('df-f78d3cd7-73fc-459c-b3df-785ee85a1831')\"\n",
              "              title=\"Convert this dataframe to an interactive table.\"\n",
              "              style=\"display:none;\">\n",
              "        \n",
              "  <svg xmlns=\"http://www.w3.org/2000/svg\" height=\"24px\"viewBox=\"0 0 24 24\"\n",
              "       width=\"24px\">\n",
              "    <path d=\"M0 0h24v24H0V0z\" fill=\"none\"/>\n",
              "    <path d=\"M18.56 5.44l.94 2.06.94-2.06 2.06-.94-2.06-.94-.94-2.06-.94 2.06-2.06.94zm-11 1L8.5 8.5l.94-2.06 2.06-.94-2.06-.94L8.5 2.5l-.94 2.06-2.06.94zm10 10l.94 2.06.94-2.06 2.06-.94-2.06-.94-.94-2.06-.94 2.06-2.06.94z\"/><path d=\"M17.41 7.96l-1.37-1.37c-.4-.4-.92-.59-1.43-.59-.52 0-1.04.2-1.43.59L10.3 9.45l-7.72 7.72c-.78.78-.78 2.05 0 2.83L4 21.41c.39.39.9.59 1.41.59.51 0 1.02-.2 1.41-.59l7.78-7.78 2.81-2.81c.8-.78.8-2.07 0-2.86zM5.41 20L4 18.59l7.72-7.72 1.47 1.35L5.41 20z\"/>\n",
              "  </svg>\n",
              "      </button>\n",
              "      \n",
              "  <style>\n",
              "    .colab-df-container {\n",
              "      display:flex;\n",
              "      flex-wrap:wrap;\n",
              "      gap: 12px;\n",
              "    }\n",
              "\n",
              "    .colab-df-convert {\n",
              "      background-color: #E8F0FE;\n",
              "      border: none;\n",
              "      border-radius: 50%;\n",
              "      cursor: pointer;\n",
              "      display: none;\n",
              "      fill: #1967D2;\n",
              "      height: 32px;\n",
              "      padding: 0 0 0 0;\n",
              "      width: 32px;\n",
              "    }\n",
              "\n",
              "    .colab-df-convert:hover {\n",
              "      background-color: #E2EBFA;\n",
              "      box-shadow: 0px 1px 2px rgba(60, 64, 67, 0.3), 0px 1px 3px 1px rgba(60, 64, 67, 0.15);\n",
              "      fill: #174EA6;\n",
              "    }\n",
              "\n",
              "    [theme=dark] .colab-df-convert {\n",
              "      background-color: #3B4455;\n",
              "      fill: #D2E3FC;\n",
              "    }\n",
              "\n",
              "    [theme=dark] .colab-df-convert:hover {\n",
              "      background-color: #434B5C;\n",
              "      box-shadow: 0px 1px 3px 1px rgba(0, 0, 0, 0.15);\n",
              "      filter: drop-shadow(0px 1px 2px rgba(0, 0, 0, 0.3));\n",
              "      fill: #FFFFFF;\n",
              "    }\n",
              "  </style>\n",
              "\n",
              "      <script>\n",
              "        const buttonEl =\n",
              "          document.querySelector('#df-f78d3cd7-73fc-459c-b3df-785ee85a1831 button.colab-df-convert');\n",
              "        buttonEl.style.display =\n",
              "          google.colab.kernel.accessAllowed ? 'block' : 'none';\n",
              "\n",
              "        async function convertToInteractive(key) {\n",
              "          const element = document.querySelector('#df-f78d3cd7-73fc-459c-b3df-785ee85a1831');\n",
              "          const dataTable =\n",
              "            await google.colab.kernel.invokeFunction('convertToInteractive',\n",
              "                                                     [key], {});\n",
              "          if (!dataTable) return;\n",
              "\n",
              "          const docLinkHtml = 'Like what you see? Visit the ' +\n",
              "            '<a target=\"_blank\" href=https://colab.research.google.com/notebooks/data_table.ipynb>data table notebook</a>'\n",
              "            + ' to learn more about interactive tables.';\n",
              "          element.innerHTML = '';\n",
              "          dataTable['output_type'] = 'display_data';\n",
              "          await google.colab.output.renderOutput(dataTable, element);\n",
              "          const docLink = document.createElement('div');\n",
              "          docLink.innerHTML = docLinkHtml;\n",
              "          element.appendChild(docLink);\n",
              "        }\n",
              "      </script>\n",
              "    </div>\n",
              "  </div>\n",
              "  "
            ],
            "text/plain": [
              "         SellerCity                           SellerName  SellerIsPriv  \\\n",
              "312         Chicago                              Kenneth          True   \n",
              "993       Rochester                                SCOTT          True   \n",
              "1001   Battle Creek                                Craig          True   \n",
              "1402    Painesville                                 Matt          True   \n",
              "1798    Mercersburg                               Amanda          True   \n",
              "2000   Lake Stevens                                  Dan          True   \n",
              "2197  Oklahoma City                                  Tim          True   \n",
              "2203      Baltimore                               Jeremy          True   \n",
              "3145           York                                Shaun          True   \n",
              "3427        Chicago  JERRY CAR CALL OR TEXT 312-259 8999          True   \n",
              "3621        Chicago                               Cullen          True   \n",
              "3936       Columbia                                Harry          True   \n",
              "6254     Greensboro                                  Jon          True   \n",
              "6293       Dearborn                                  Abe          True   \n",
              "\n",
              "     VehHistory VehFeats  \n",
              "312         NaN      NaN  \n",
              "993         NaN      NaN  \n",
              "1001        NaN      NaN  \n",
              "1402        NaN      NaN  \n",
              "1798        NaN      NaN  \n",
              "2000        NaN      NaN  \n",
              "2197        NaN      NaN  \n",
              "2203        NaN      NaN  \n",
              "3145        NaN      NaN  \n",
              "3427        NaN      NaN  \n",
              "3621        NaN      NaN  \n",
              "3936        NaN      NaN  \n",
              "6254        NaN      NaN  \n",
              "6293        NaN      NaN  "
            ]
          },
          "execution_count": 16,
          "metadata": {},
          "output_type": "execute_result"
        }
      ],
      "source": [
        "data[['SellerCity','SellerName','SellerIsPriv','VehHistory','VehFeats']].loc[data['SellerIsPriv'] == True]"
      ]
    },
    {
      "cell_type": "code",
      "execution_count": null,
      "metadata": {
        "colab": {
          "base_uri": "https://localhost:8080/"
        },
        "id": "QWfDv6F2R2aS",
        "outputId": "111f0117-cf2a-4ee1-def4-c57f225951b0"
      },
      "outputs": [
        {
          "data": {
            "text/plain": [
              "count      5567\n",
              "unique        1\n",
              "top       False\n",
              "freq       5567\n",
              "Name: SellerIsPriv, dtype: object"
            ]
          },
          "execution_count": 17,
          "metadata": {},
          "output_type": "execute_result"
        }
      ],
      "source": [
        "df.SellerIsPriv.describe()"
      ]
    },
    {
      "cell_type": "code",
      "execution_count": null,
      "metadata": {
        "id": "lXugreioU-pH"
      },
      "outputs": [],
      "source": [
        "df =df.drop('SellerIsPriv', axis=1)"
      ]
    },
    {
      "cell_type": "markdown",
      "metadata": {
        "id": "dEpcYrMMio9O"
      },
      "source": [
        "#### VehTransmission\n",
        "\n",
        "Most shiftable automatics are a regular automatic with electronic override."
      ]
    },
    {
      "cell_type": "code",
      "execution_count": null,
      "metadata": {
        "id": "gC-A3xAL1W63"
      },
      "outputs": [],
      "source": [
        "df[\"VehTransmission\"] = df[\"VehTransmission\"].str.lower()"
      ]
    },
    {
      "cell_type": "code",
      "execution_count": null,
      "metadata": {
        "colab": {
          "base_uri": "https://localhost:8080/"
        },
        "id": "UGyLMM65GFOR",
        "outputId": "a2ff5c15-6fa0-43fa-c2f2-5a4214d55960"
      },
      "outputs": [
        {
          "data": {
            "text/plain": [
              "automatic        5522\n",
              "not specified      45\n",
              "Name: VehTransmission, dtype: int64"
            ]
          },
          "execution_count": 20,
          "metadata": {},
          "output_type": "execute_result"
        }
      ],
      "source": [
        "df[\"VehTransmission\"]=df[\"VehTransmission\"].mask(df[\"VehTransmission\"].str.contains('a.*t*.*', regex=True),'automatic')\n",
        "df[\"VehTransmission\"]=df[\"VehTransmission\"].mask(df[\"VehTransmission\"].str.contains('automatic')== False,'not specified')\n",
        "df[\"VehTransmission\"].value_counts()\n"
      ]
    },
    {
      "cell_type": "code",
      "execution_count": null,
      "metadata": {
        "colab": {
          "base_uri": "https://localhost:8080/",
          "height": 356
        },
        "id": "AgYudRjlJ_ly",
        "outputId": "14b32c64-b14a-4258-9b24-21eaae603b98"
      },
      "outputs": [
        {
          "data": {
            "text/plain": [
              "<matplotlib.axes._subplots.AxesSubplot at 0x7efcc6df21d0>"
            ]
          },
          "execution_count": 21,
          "metadata": {},
          "output_type": "execute_result"
        },
        {
          "data": {
            "image/png": "[encoded data removed]",
            "text/plain": [
              "<Figure size 576x360 with 1 Axes>"
            ]
          },
          "metadata": {},
          "output_type": "display_data"
        }
      ],
      "source": [
        "plt.figure(figsize = (8,5))\n",
        "sns.histplot(data=df, x=\"VehTransmission\")"
      ]
    },
    {
      "cell_type": "markdown",
      "metadata": {
        "id": "sVX2akdBb8Mp"
      },
      "source": [
        "#### VehDriveTrain\n",
        "https://www.vwofalamoheights.com/meaning-of-4x4-4wd-vs-awd-2wd-in-suvs-and-cars/\n"
      ]
    },
    {
      "cell_type": "code",
      "execution_count": null,
      "metadata": {
        "id": "k238KfFqepTU"
      },
      "outputs": [],
      "source": [
        "df[\"VehDriveTrain\"] = df[\"VehDriveTrain\"].str.lower()"
      ]
    },
    {
      "cell_type": "code",
      "execution_count": null,
      "metadata": {
        "id": "FskNYPDVZxlH"
      },
      "outputs": [],
      "source": [
        "# 4WD\n",
        "df['VehDriveTrain'].mask(df['VehDriveTrain'] == '4x4/4wd', '4wd', inplace=True)\n",
        "df['VehDriveTrain'].mask(df['VehDriveTrain'] == '4x4', '4wd', inplace=True)\n",
        "df['VehDriveTrain'].mask(df['VehDriveTrain'] == 'four wheel drive', '4wd', inplace=True)\n",
        "df['VehDriveTrain'].mask(df['VehDriveTrain'] == '4x4/4-wheel drive', '4wd', inplace=True)\n",
        "# FWD\n",
        "df['VehDriveTrain'].mask(df['VehDriveTrain'] == 'front wheel drive', 'fwd', inplace=True)\n",
        "df['VehDriveTrain'].mask(df['VehDriveTrain'] == 'front-wheel drive', 'fwd', inplace=True)\n",
        "df['VehDriveTrain'].mask(df['VehDriveTrain'] == '2wd', 'fwd', inplace=True)\n",
        "# AWD\n",
        "df['VehDriveTrain'].mask(df['VehDriveTrain'] == 'all wheel', 'awd', inplace=True)\n",
        "df['VehDriveTrain'].mask(df['VehDriveTrain'] == 'all wheel drive', 'awd', inplace=True)\n",
        "df['VehDriveTrain'].mask(df['VehDriveTrain'] == 'all-wheel drive', 'awd', inplace=True)\n",
        "df['VehDriveTrain'].mask(df['VehDriveTrain'] == 'allwheeldrive', 'awd', inplace=True)\n",
        "df['VehDriveTrain'].mask(df['VehDriveTrain'] == 'awd or 4x4', 'awd', inplace=True)\n",
        "df['VehDriveTrain'].mask(df['VehDriveTrain'] == '4wd/awd', 'awd', inplace=True)\n",
        "df['VehDriveTrain'].mask(df['VehDriveTrain'] == 'all-wheel drive with locking and limited-slip differential', 'awd', inplace=True)"
      ]
    },
    {
      "cell_type": "code",
      "execution_count": null,
      "metadata": {
        "colab": {
          "base_uri": "https://localhost:8080/",
          "height": 369
        },
        "id": "ADPMnSHSovq4",
        "outputId": "573dc2f2-27e2-45ee-f294-e0ec0f894296"
      },
      "outputs": [
        {
          "data": {
            "text/plain": [
              "([0, 1, 2], <a list of 3 Text major ticklabel objects>)"
            ]
          },
          "execution_count": 24,
          "metadata": {},
          "output_type": "execute_result"
        },
        {
          "data": {
            "image/png": "[encoded data removed]",
            "text/plain": [
              "<Figure size 1080x360 with 1 Axes>"
            ]
          },
          "metadata": {},
          "output_type": "display_data"
        }
      ],
      "source": [
        "plt.figure(figsize = (15,5))\n",
        "sns.histplot(data=df, x=\"VehDriveTrain\")\n",
        "plt.xticks(rotation=45)"
      ]
    },
    {
      "cell_type": "markdown",
      "metadata": {
        "id": "noFOiAptVrpj"
      },
      "source": [
        "#### SellerListSrc, VehFuel, VehMake, VehModel, VehPriceLabel, VehCertified, VehTransmission,VehDriveTrain"
      ]
    },
    {
      "cell_type": "code",
      "execution_count": null,
      "metadata": {
        "colab": {
          "base_uri": "https://localhost:8080/",
          "height": 598
        },
        "id": "X4fV0aRoVeFw",
        "outputId": "e6f26898-8946-4236-e4ca-3f7a1e5e3972"
      },
      "outputs": [
        {
          "data": {
            "image/png": "[encoded data removed]",
            "text/plain": [
              "<Figure size 1800x576 with 5 Axes>"
            ]
          },
          "metadata": {},
          "output_type": "display_data"
        }
      ],
      "source": [
        "sns.set(rc = {'figure.figsize':(25,8)})\n",
        "fig, ax =plt.subplots(1,5)\n",
        "sns.countplot(data=df, x='SellerListSrc', ax=ax[4])\n",
        "sns.countplot(data=df, x='VehFuel',ax=ax[0])\n",
        "sns.countplot(data=df, x='VehMake', ax=ax[1])\n",
        "sns.countplot(data=df, x='VehModel',  ax=ax[2])\n",
        "sns.countplot(data=df, x='VehPriceLabel', ax=ax[3])\n",
        "\n",
        "plt.xticks(rotation=45, horizontalalignment='right')\n",
        "fig.show()"
      ]
    },
    {
      "cell_type": "code",
      "execution_count": null,
      "metadata": {
        "colab": {
          "base_uri": "https://localhost:8080/",
          "height": 352
        },
        "id": "3FtjLLOfMGfU",
        "outputId": "df95a3e5-c121-4234-839d-4614d16a8c1e"
      },
      "outputs": [
        {
          "data": {
            "image/png": "[encoded data removed]",
            "text/plain": [
              "<Figure size 864x360 with 3 Axes>"
            ]
          },
          "metadata": {},
          "output_type": "display_data"
        }
      ],
      "source": [
        "sns.set(rc = {'figure.figsize':(12,5)})\n",
        "fig, ax =plt.subplots(1,3)\n",
        "sns.countplot(data=df, x='VehCertified', ax=ax[0])\n",
        "sns.countplot(data=df, x='VehTransmission',ax=ax[1])\n",
        "sns.countplot(data=df, x='VehDriveTrain',ax=ax[2])\n",
        "\n",
        "plt.xticks(rotation=45, horizontalalignment='right')\n",
        "fig.show()\n"
      ]
    },
    {
      "cell_type": "markdown",
      "metadata": {
        "id": "XYKGAh4Kh809"
      },
      "source": [
        "drop single value cols "
      ]
    },
    {
      "cell_type": "code",
      "execution_count": null,
      "metadata": {
        "colab": {
          "base_uri": "https://localhost:8080/"
        },
        "id": "cZeHNq1BBH9U",
        "outputId": "9f0bb314-1047-462b-e240-e98c821e8d91"
      },
      "outputs": [
        {
          "data": {
            "text/plain": [
              "count     6298\n",
              "unique       1\n",
              "top        SUV\n",
              "freq      6298\n",
              "Name: VehBodystyle, dtype: object"
            ]
          },
          "execution_count": 27,
          "metadata": {},
          "output_type": "execute_result"
        }
      ],
      "source": [
        "data.VehBodystyle.describe()"
      ]
    },
    {
      "cell_type": "code",
      "execution_count": null,
      "metadata": {
        "colab": {
          "base_uri": "https://localhost:8080/"
        },
        "id": "kdaUjLZzChoS",
        "outputId": "509a6311-0a81-4e18-cf65-c64e23c6f3bd"
      },
      "outputs": [
        {
          "data": {
            "text/plain": [
              "Used    6298\n",
              "Name: VehType, dtype: int64"
            ]
          },
          "execution_count": 28,
          "metadata": {},
          "output_type": "execute_result"
        }
      ],
      "source": [
        "data.VehType.value_counts()"
      ]
    },
    {
      "cell_type": "code",
      "execution_count": null,
      "metadata": {
        "id": "yJWG3AwVCNbm"
      },
      "outputs": [],
      "source": [
        "# drop VehBodystyle since it only has one unique value : SUV\n",
        "df = df.drop('VehBodystyle',axis=1)\n",
        "df = df.drop('VehType',axis=1)"
      ]
    },
    {
      "cell_type": "markdown",
      "metadata": {
        "id": "AYpm_Dl_FXWY"
      },
      "source": [
        "#### VehHistory"
      ]
    },
    {
      "cell_type": "code",
      "execution_count": null,
      "metadata": {
        "colab": {
          "base_uri": "https://localhost:8080/"
        },
        "id": "bP99_D79FZHP",
        "outputId": "38556e47-8c53-4b9c-bda3-d0163de63e04"
      },
      "outputs": [
        {
          "data": {
            "text/plain": [
              "1 Owner, Buyback Protection Eligible                                                                               2649\n",
              "1 Owner, Non-Personal Use Reported, Buyback Protection Eligible                                                    1785\n",
              "1 Owner, Accident(s) Reported, Buyback Protection Eligible                                                          229\n",
              "1 Owner, Accident(s) Reported, Non-Personal Use Reported, Buyback Protection Eligible                               168\n",
              "2 Owners, Buyback Protection Eligible                                                                               166\n",
              "0 Owners, Buyback Protection Eligible                                                                               129\n",
              "0 Owners, Accident(s) Reported, Non-Personal Use Reported, Title Issue(s) Reported                                  128\n",
              "2 Owners, Non-Personal Use Reported, Buyback Protection Eligible                                                    124\n",
              "1 Owner, Title Issue(s) Reported                                                                                     43\n",
              "2 Owners, Accident(s) Reported, Buyback Protection Eligible                                                          23\n",
              "1 Owner, Accident(s) Reported, Title Issue(s) Reported                                                               18\n",
              "2 Owners, Accident(s) Reported, Non-Personal Use Reported, Buyback Protection Eligible                               16\n",
              "1 Owner, Accident(s) Reported, Non-Personal Use Reported, Title Issue(s) Reported, Buyback Protection Eligible       14\n",
              "3 Owners, Buyback Protection Eligible                                                                                10\n",
              "0 Owners, Accident(s) Reported, Buyback Protection Eligible                                                           8\n",
              "0 Owners, Non-Personal Use Reported, Buyback Protection Eligible                                                      7\n",
              "3 Owners, Non-Personal Use Reported, Buyback Protection Eligible                                                      6\n",
              "1 Owner, Non-Personal Use Reported, Title Issue(s) Reported, Buyback Protection Eligible                              5\n",
              "1 Owner                                                                                                               5\n",
              "4 Owners, Buyback Protection Eligible                                                                                 5\n",
              "1 Owner, Accident(s) Reported, Title Issue(s) Reported, Buyback Protection Eligible                                   4\n",
              "2 Owners, Title Issue(s) Reported                                                                                     4\n",
              "1 Owner, Title Issue(s) Reported, Buyback Protection Eligible                                                         3\n",
              "2 Owners                                                                                                              3\n",
              "2 Owners, Accident(s) Reported, Title Issue(s) Reported                                                               3\n",
              "2 Owners, Non-Personal Use Reported, Title Issue(s) Reported, Buyback Protection Eligible                             3\n",
              "2 Owners, Accident(s) Reported, Title Issue(s) Reported, Buyback Protection Eligible                                  2\n",
              "1 Owner, Non-Personal Use Reported, Title Issue(s) Reported                                                           2\n",
              "0 Owners, Accident(s) Reported, Title Issue(s) Reported, Buyback Protection Eligible                                  1\n",
              "3 Owners, Accident(s) Reported, Title Issue(s) Reported                                                               1\n",
              "3 Owners, Accident(s) Reported, Buyback Protection Eligible                                                           1\n",
              "2 Owners, Accident(s) Reported, Non-Personal Use Reported, Title Issue(s) Reported                                    1\n",
              "2 Owners, Accident(s) Reported, Non-Personal Use Reported, Title Issue(s) Reported, Buyback Protection Eligible       1\n",
              "Name: VehHistory, dtype: int64"
            ]
          },
          "execution_count": 30,
          "metadata": {},
          "output_type": "execute_result"
        }
      ],
      "source": [
        "df.VehHistory.value_counts() "
      ]
    },
    {
      "cell_type": "code",
      "execution_count": null,
      "metadata": {
        "id": "QC_ap_FvGxPB"
      },
      "outputs": [],
      "source": [
        "history = df[\"VehHistory\"].str.split(\",\", n = 1, expand = True)"
      ]
    },
    {
      "cell_type": "code",
      "execution_count": null,
      "metadata": {
        "id": "r1oPAJgGMLcr"
      },
      "outputs": [],
      "source": [
        "df['Owners']=history[0].str.split(\" \", n = 1, expand = True)[0].astype(int)\n",
        "df['Accident'] =history[1].str.contains('Accident', regex=False)\n",
        "df['Non_Personal'] = history[1].str.contains('Non-Personal', regex=False)\n",
        "df['Buyback_Protection'] = history[1].str.contains('Buyback Protection', regex=False)\n",
        "df['Title_Issue'] = history[1].str.contains('Title Issue(s)', regex=False)"
      ]
    },
    {
      "cell_type": "code",
      "execution_count": null,
      "metadata": {
        "id": "xXalLBxmfFnV"
      },
      "outputs": [],
      "source": [
        "df['Accident'] = df.Accident.fillna(0)\n",
        "df['Non_Personal'] = df.Non_Personal.fillna(0)\n",
        "df['Buyback_Protection'] = df.Buyback_Protection.fillna(0)\n",
        "df['Title_Issue'] = df.Title_Issue.fillna(0)"
      ]
    },
    {
      "cell_type": "code",
      "execution_count": null,
      "metadata": {
        "id": "fEBzxrVZOVu0"
      },
      "outputs": [],
      "source": [
        "df=df.drop('VehHistory', axis=1)"
      ]
    },
    {
      "cell_type": "code",
      "execution_count": null,
      "metadata": {
        "colab": {
          "base_uri": "https://localhost:8080/",
          "height": 494
        },
        "id": "SFi0rpQmN3-p",
        "outputId": "629770bb-0878-4a67-a88b-0d6c2338551e"
      },
      "outputs": [
        {
          "data": {
            "image/png": "[encoded data removed]",
            "text/plain": [
              "<Figure size 1800x576 with 5 Axes>"
            ]
          },
          "metadata": {},
          "output_type": "display_data"
        }
      ],
      "source": [
        "sns.set(rc = {'figure.figsize':(25,8)})\n",
        "fig, ax =plt.subplots(1,5)\n",
        "sns.countplot(data=df, x='Owners', ax=ax[0])\n",
        "sns.countplot(data=df, x='Non_Personal',ax=ax[1])\n",
        "sns.countplot(data=df, x='Accident',ax=ax[4])\n",
        "sns.countplot(data=df, x='Buyback_Protection',ax=ax[2])\n",
        "sns.countplot(data=df, x='Title_Issue',ax=ax[3])\n",
        "\n",
        "fig.show()"
      ]
    },
    {
      "cell_type": "markdown",
      "metadata": {
        "id": "365TMgtZQ4Cp"
      },
      "source": [
        "#### VehFeats"
      ]
    },
    {
      "cell_type": "code",
      "execution_count": null,
      "metadata": {
        "colab": {
          "base_uri": "https://localhost:8080/"
        },
        "id": "aig9LDNIOn-k",
        "outputId": "4f234f70-62f8-48c7-b68c-9daa92368e45"
      },
      "outputs": [
        {
          "data": {
            "text/plain": [
              "count                                                  5567\n",
              "unique                                                  765\n",
              "top       ['1st and 2nd row curtain head airbags', '4-wh...\n",
              "freq                                                    831\n",
              "Name: VehFeats, dtype: object"
            ]
          },
          "execution_count": 36,
          "metadata": {},
          "output_type": "execute_result"
        }
      ],
      "source": [
        "df.VehFeats.describe()"
      ]
    },
    {
      "cell_type": "code",
      "execution_count": null,
      "metadata": {
        "id": "HEZ26rgonmrO"
      },
      "outputs": [],
      "source": [
        "a = df[\"VehFeats\"]"
      ]
    },
    {
      "cell_type": "code",
      "execution_count": null,
      "metadata": {
        "id": "zCSb90C1sq4s"
      },
      "outputs": [],
      "source": [
        "a = a.apply(eval)"
      ]
    },
    {
      "cell_type": "code",
      "execution_count": null,
      "metadata": {
        "colab": {
          "base_uri": "https://localhost:8080/"
        },
        "id": "0_2zaUF2n2ye",
        "outputId": "dc257e07-43a4-43d4-943c-d5f86a087557"
      },
      "outputs": [
        {
          "data": {
            "text/plain": [
              "2       ['18 WHEEL &amp; 8.4 RADIO GROUP-inc: Nav-Capa...\n",
              "3       ['Android Auto', 'Antilock Brakes', 'Apple Car...\n",
              "4       ['4-Wheel Disc Brakes', 'ABS', 'Adjustable Ste...\n",
              "5       ['1st and 2nd row curtain head airbags', '4-wh...\n",
              "6       ['1st and 2nd row curtain head airbags', '4-wh...\n",
              "                              ...                        \n",
              "6292    ['1st and 2nd row curtain head airbags', '4-wh...\n",
              "6294    ['1st and 2nd row curtain head airbags', '4-wh...\n",
              "6295    ['1st and 2nd row curtain head airbags', '4-wh...\n",
              "6296    ['1st and 2nd row curtain head airbags', '4-wh...\n",
              "6297    ['Airbag Occupancy Sensor', 'Curtain 1st And 2...\n",
              "Name: VehFeats, Length: 5567, dtype: object"
            ]
          },
          "execution_count": 39,
          "metadata": {},
          "output_type": "execute_result"
        }
      ],
      "source": [
        "df[\"VehFeats\"]"
      ]
    },
    {
      "cell_type": "code",
      "execution_count": null,
      "metadata": {
        "id": "nqnl9l7wnylP"
      },
      "outputs": [],
      "source": [
        "c =[]\n",
        "for i, l in enumerate(df[\"VehFeats\"]):\n",
        "  c.append(len(l))\n",
        "df['fea_count'] = c"
      ]
    },
    {
      "cell_type": "code",
      "execution_count": null,
      "metadata": {
        "id": "KEzTXP9NoYe1"
      },
      "outputs": [],
      "source": [
        "# Getting Unique Values or Value Counts\n",
        "def to_1D(series):\n",
        " return pd.Series([x for _list in series for x in _list])"
      ]
    },
    {
      "cell_type": "code",
      "execution_count": null,
      "metadata": {
        "colab": {
          "base_uri": "https://localhost:8080/"
        },
        "id": "17XJiSvPrUEo",
        "outputId": "7b4e6038-5734-402b-e257-c1ca2a933a75"
      },
      "outputs": [
        {
          "data": {
            "text/plain": [
              "Audio controls on steering wheel                                                                                     3333\n",
              "1st and 2nd row curtain head airbags                                                                                 3327\n",
              "ABS and Driveline Traction Control                                                                                   3327\n",
              "4-wheel ABS Brakes                                                                                                   3327\n",
              "Braking Assist                                                                                                       2121\n",
              "                                                                                                                     ... \n",
              "3.45 rear axle ratio                                                                                                    1\n",
              "Chrome Power w/Tilt Down Heated Side Mirrors w/Driver Auto Dimming$COMMA Manual Folding and Turn Signal Indicator       1\n",
              "Dua                                                                                                                     1\n",
              "Adjustable Rear Headrests                                                                                               1\n",
              "75th Anniversary Luxury Group (DISC) - Includ                                                                           1\n",
              "Length: 968, dtype: int64"
            ]
          },
          "execution_count": 42,
          "metadata": {},
          "output_type": "execute_result"
        }
      ],
      "source": [
        "to_1D(a).value_counts()"
      ]
    },
    {
      "cell_type": "code",
      "execution_count": null,
      "metadata": {
        "colab": {
          "base_uri": "https://localhost:8080/"
        },
        "id": "hDCyxipUpHJU",
        "outputId": "01a9d1b8-e7d8-4e47-f987-34210e56cead"
      },
      "outputs": [
        {
          "data": {
            "text/plain": [
              "Audio controls on steering wheel        3333\n",
              "1st and 2nd row curtain head airbags    3327\n",
              "ABS and Driveline Traction Control      3327\n",
              "4-wheel ABS Brakes                      3327\n",
              "Braking Assist                          2121\n",
              "Auxilliary engine cooler                1785\n",
              "Audio system memory card slot           1708\n",
              "Anti-theft alarm system                 1632\n",
              "Antilock Brakes                         1102\n",
              "Auxiliary Input                          908\n",
              "Bucket front seats                       854\n",
              "Backup Camera                            827\n",
              "Automatic front air conditioning         793\n",
              "Bluetooth                                777\n",
              "Audio Controls On Steering Wheel         756\n",
              "AM/FM/Satellite-prep Radio               676\n",
              "AM/FM Stereo                             655\n",
              "Aluminum Wheels                          634\n",
              "Alloy Wheels                             613\n",
              "ABS                                      606\n",
              "dtype: int64"
            ]
          },
          "execution_count": 43,
          "metadata": {},
          "output_type": "execute_result"
        }
      ],
      "source": [
        "f = to_1D(a).value_counts().nlargest(20)\n",
        "f"
      ]
    },
    {
      "cell_type": "code",
      "execution_count": null,
      "metadata": {
        "colab": {
          "base_uri": "https://localhost:8080/",
          "height": 447
        },
        "id": "EUBiB_tpqsp6",
        "outputId": "39b0237a-38da-4afd-cd09-582cbaa6c8c0"
      },
      "outputs": [
        {
          "data": {
            "text/plain": [
              "([0, 1, 2, 3, 4, 5, 6, 7, 8, 9, 10, 11, 12, 13, 14, 15, 16, 17, 18, 19],\n",
              " <a list of 20 Text major ticklabel objects>)"
            ]
          },
          "execution_count": 44,
          "metadata": {},
          "output_type": "execute_result"
        },
        {
          "data": {
            "image/png": "[encoded data removed]",
            "text/plain": [
              "<Figure size 1008x288 with 1 Axes>"
            ]
          },
          "metadata": {},
          "output_type": "display_data"
        }
      ],
      "source": [
        "fig, ax = plt.subplots(figsize = (14,4))\n",
        "ax.bar(f.index,f.values)\n",
        "ax.set_ylabel(\"Frequency\", size = 12)\n",
        "plt.xticks(rotation=45, horizontalalignment='right')"
      ]
    },
    {
      "cell_type": "markdown",
      "metadata": {
        "id": "6LKEa8UduuD-"
      },
      "source": [
        "#### VehSellerNotes"
      ]
    },
    {
      "cell_type": "code",
      "execution_count": null,
      "metadata": {
        "colab": {
          "base_uri": "https://localhost:8080/"
        },
        "id": "QVVx9mkxu2ZE",
        "outputId": "8b8ddf2a-7fe2-41f0-de63-21f7b7b5413b"
      },
      "outputs": [
        {
          "data": {
            "text/plain": [
              "2       Backed by a rigorous 125-point inspection by f...\n",
              "3       Drop by to see us and you will quickly see how...\n",
              "4       Luxury, Exterior Parking Camera Rear, Front Du...\n",
              "5       Priced below KBB Fair Purchase Price! Clean CA...\n",
              "6       2017 Jeep Grand Cherokee Laredo True Blue Pear...\n",
              "                              ...                        \n",
              "6292    CarMax makes car buying easy and hassle-free. ...\n",
              "6294    CarMax makes car buying easy and hassle-free. ...\n",
              "6295    Clean CARFAX. Certified. Black 2018 Cadillac X...\n",
              "6296    Black 2017 Cadillac XT5 Luxury FWD 8-Speed Aut...\n",
              "6297    With Vroom, you can buy your next car from the...\n",
              "Name: VehSellerNotes, Length: 5567, dtype: object"
            ]
          },
          "execution_count": 45,
          "metadata": {},
          "output_type": "execute_result"
        }
      ],
      "source": [
        "df.VehSellerNotes"
      ]
    },
    {
      "cell_type": "markdown",
      "metadata": {
        "id": "Tdg5rVwzWjmy"
      },
      "source": [
        "### Encoding"
      ]
    },
    {
      "cell_type": "markdown",
      "metadata": {
        "id": "DoWNQU6LWwB2"
      },
      "source": [
        "utilized label encoding to compress the data into integer numbers"
      ]
    },
    {
      "cell_type": "code",
      "execution_count": null,
      "metadata": {
        "colab": {
          "base_uri": "https://localhost:8080/"
        },
        "id": "ZPLQG_Gxr8kP",
        "outputId": "0c576d0c-0eb8-4d2d-8262-4a8f8eb8b489"
      },
      "outputs": [
        {
          "data": {
            "text/plain": [
              "count                      5567\n",
              "unique                       88\n",
              "top       3.6L V6 24V MPFI DOHC\n",
              "freq                       1787\n",
              "Name: VehEngine, dtype: object"
            ]
          },
          "execution_count": 46,
          "metadata": {},
          "output_type": "execute_result"
        }
      ],
      "source": [
        "df.VehEngine.describe()"
      ]
    },
    {
      "cell_type": "code",
      "execution_count": null,
      "metadata": {
        "id": "0svlDAkFSPmq"
      },
      "outputs": [],
      "source": [
        "from sklearn import preprocessing\n",
        "\n",
        "le = preprocessing.LabelEncoder()\n",
        "\n",
        "df['SellerZip'] = le.fit_transform(df.SellerZip)\n",
        "df['VehEngine'] = le.fit_transform(df.VehEngine)\n",
        "df['VehColorInt'] = le.fit_transform(df.VehColorInt)\n",
        "df['SellerState'] = le.fit_transform(df.SellerState)\n",
        "df['VehColorExt'] = le.fit_transform(df.VehColorExt)\n",
        "df['SellerListSrc'] = le.fit_transform(df.SellerListSrc)\n",
        "df['VehDriveTrain'] = le.fit_transform(df.VehDriveTrain)\n",
        "df['VehFuel'] = le.fit_transform(df.VehFuel)\n",
        "df['VehMake'] = le.fit_transform(df.VehMake)\n",
        "df['VehModel'] = le.fit_transform(df.VehModel)\n",
        "df['VehPriceLabel'] = le.fit_transform(df.VehPriceLabel)\n",
        "df['VehTransmission'] = le.fit_transform(df.VehTransmission)\n",
        "df['VehYear'] = le.fit_transform(df.VehYear)"
      ]
    },
    {
      "cell_type": "code",
      "execution_count": null,
      "metadata": {
        "id": "bkLsWTajaPfC"
      },
      "outputs": [],
      "source": [
        "df.replace({False: 0, True: 1}, inplace=True)"
      ]
    },
    {
      "cell_type": "code",
      "execution_count": null,
      "metadata": {
        "colab": {
          "base_uri": "https://localhost:8080/",
          "height": 358
        },
        "id": "bk9EpGOQdcOG",
        "outputId": "b8d0eefb-d436-4984-b544-439390f5e37d"
      },
      "outputs": [
        {
          "data": {
            "text/html": [
              "\n",
              "  <div id=\"df-2fb288bb-e5f1-463d-84f5-8f67991b8af6\">\n",
              "    <div class=\"colab-df-container\">\n",
              "      <div>\n",
              "<style scoped>\n",
              "    .dataframe tbody tr th:only-of-type {\n",
              "        vertical-align: middle;\n",
              "    }\n",
              "\n",
              "    .dataframe tbody tr th {\n",
              "        vertical-align: top;\n",
              "    }\n",
              "\n",
              "    .dataframe thead th {\n",
              "        text-align: right;\n",
              "    }\n",
              "</style>\n",
              "<table border=\"1\" class=\"dataframe\">\n",
              "  <thead>\n",
              "    <tr style=\"text-align: right;\">\n",
              "      <th></th>\n",
              "      <th>SellerCity</th>\n",
              "      <th>SellerListSrc</th>\n",
              "      <th>SellerName</th>\n",
              "      <th>SellerRating</th>\n",
              "      <th>SellerRevCnt</th>\n",
              "      <th>SellerState</th>\n",
              "      <th>SellerZip</th>\n",
              "      <th>VehCertified</th>\n",
              "      <th>VehColorExt</th>\n",
              "      <th>VehColorInt</th>\n",
              "      <th>...</th>\n",
              "      <th>VehTransmission</th>\n",
              "      <th>VehYear</th>\n",
              "      <th>Vehicle_Trim</th>\n",
              "      <th>Dealer_Listing_Price</th>\n",
              "      <th>Owners</th>\n",
              "      <th>Accident</th>\n",
              "      <th>Non_Personal</th>\n",
              "      <th>Buyback_Protection</th>\n",
              "      <th>Title_Issue</th>\n",
              "      <th>fea_count</th>\n",
              "    </tr>\n",
              "  </thead>\n",
              "  <tbody>\n",
              "    <tr>\n",
              "      <th>6295</th>\n",
              "      <td>Dublin</td>\n",
              "      <td>0</td>\n",
              "      <td>Cadillac of Dublin</td>\n",
              "      <td>4.1</td>\n",
              "      <td>20.0</td>\n",
              "      <td>34</td>\n",
              "      <td>665</td>\n",
              "      <td>1</td>\n",
              "      <td>12</td>\n",
              "      <td>47</td>\n",
              "      <td>...</td>\n",
              "      <td>0</td>\n",
              "      <td>3</td>\n",
              "      <td>Luxury</td>\n",
              "      <td>35674.0</td>\n",
              "      <td>0</td>\n",
              "      <td>0</td>\n",
              "      <td>0</td>\n",
              "      <td>1</td>\n",
              "      <td>0</td>\n",
              "      <td>259</td>\n",
              "    </tr>\n",
              "    <tr>\n",
              "      <th>6296</th>\n",
              "      <td>Sandusky</td>\n",
              "      <td>0</td>\n",
              "      <td>Foster Chevrolet Cadillac</td>\n",
              "      <td>4.9</td>\n",
              "      <td>278.0</td>\n",
              "      <td>34</td>\n",
              "      <td>769</td>\n",
              "      <td>0</td>\n",
              "      <td>12</td>\n",
              "      <td>47</td>\n",
              "      <td>...</td>\n",
              "      <td>0</td>\n",
              "      <td>2</td>\n",
              "      <td>Luxury</td>\n",
              "      <td>31995.0</td>\n",
              "      <td>2</td>\n",
              "      <td>0</td>\n",
              "      <td>1</td>\n",
              "      <td>1</td>\n",
              "      <td>0</td>\n",
              "      <td>262</td>\n",
              "    </tr>\n",
              "    <tr>\n",
              "      <th>6297</th>\n",
              "      <td>Nashville</td>\n",
              "      <td>1</td>\n",
              "      <td>Vroom (Online Dealer - Nationwide Delivery)</td>\n",
              "      <td>3.8</td>\n",
              "      <td>727.0</td>\n",
              "      <td>41</td>\n",
              "      <td>583</td>\n",
              "      <td>0</td>\n",
              "      <td>73</td>\n",
              "      <td>73</td>\n",
              "      <td>...</td>\n",
              "      <td>0</td>\n",
              "      <td>3</td>\n",
              "      <td>Trailhawk</td>\n",
              "      <td>36280.0</td>\n",
              "      <td>1</td>\n",
              "      <td>0</td>\n",
              "      <td>1</td>\n",
              "      <td>1</td>\n",
              "      <td>0</td>\n",
              "      <td>407</td>\n",
              "    </tr>\n",
              "  </tbody>\n",
              "</table>\n",
              "<p>3 rows × 30 columns</p>\n",
              "</div>\n",
              "      <button class=\"colab-df-convert\" onclick=\"convertToInteractive('df-2fb288bb-e5f1-463d-84f5-8f67991b8af6')\"\n",
              "              title=\"Convert this dataframe to an interactive table.\"\n",
              "              style=\"display:none;\">\n",
              "        \n",
              "  <svg xmlns=\"http://www.w3.org/2000/svg\" height=\"24px\"viewBox=\"0 0 24 24\"\n",
              "       width=\"24px\">\n",
              "    <path d=\"M0 0h24v24H0V0z\" fill=\"none\"/>\n",
              "    <path d=\"M18.56 5.44l.94 2.06.94-2.06 2.06-.94-2.06-.94-.94-2.06-.94 2.06-2.06.94zm-11 1L8.5 8.5l.94-2.06 2.06-.94-2.06-.94L8.5 2.5l-.94 2.06-2.06.94zm10 10l.94 2.06.94-2.06 2.06-.94-2.06-.94-.94-2.06-.94 2.06-2.06.94z\"/><path d=\"M17.41 7.96l-1.37-1.37c-.4-.4-.92-.59-1.43-.59-.52 0-1.04.2-1.43.59L10.3 9.45l-7.72 7.72c-.78.78-.78 2.05 0 2.83L4 21.41c.39.39.9.59 1.41.59.51 0 1.02-.2 1.41-.59l7.78-7.78 2.81-2.81c.8-.78.8-2.07 0-2.86zM5.41 20L4 18.59l7.72-7.72 1.47 1.35L5.41 20z\"/>\n",
              "  </svg>\n",
              "      </button>\n",
              "      \n",
              "  <style>\n",
              "    .colab-df-container {\n",
              "      display:flex;\n",
              "      flex-wrap:wrap;\n",
              "      gap: 12px;\n",
              "    }\n",
              "\n",
              "    .colab-df-convert {\n",
              "      background-color: #E8F0FE;\n",
              "      border: none;\n",
              "      border-radius: 50%;\n",
              "      cursor: pointer;\n",
              "      display: none;\n",
              "      fill: #1967D2;\n",
              "      height: 32px;\n",
              "      padding: 0 0 0 0;\n",
              "      width: 32px;\n",
              "    }\n",
              "\n",
              "    .colab-df-convert:hover {\n",
              "      background-color: #E2EBFA;\n",
              "      box-shadow: 0px 1px 2px rgba(60, 64, 67, 0.3), 0px 1px 3px 1px rgba(60, 64, 67, 0.15);\n",
              "      fill: #174EA6;\n",
              "    }\n",
              "\n",
              "    [theme=dark] .colab-df-convert {\n",
              "      background-color: #3B4455;\n",
              "      fill: #D2E3FC;\n",
              "    }\n",
              "\n",
              "    [theme=dark] .colab-df-convert:hover {\n",
              "      background-color: #434B5C;\n",
              "      box-shadow: 0px 1px 3px 1px rgba(0, 0, 0, 0.15);\n",
              "      filter: drop-shadow(0px 1px 2px rgba(0, 0, 0, 0.3));\n",
              "      fill: #FFFFFF;\n",
              "    }\n",
              "  </style>\n",
              "\n",
              "      <script>\n",
              "        const buttonEl =\n",
              "          document.querySelector('#df-2fb288bb-e5f1-463d-84f5-8f67991b8af6 button.colab-df-convert');\n",
              "        buttonEl.style.display =\n",
              "          google.colab.kernel.accessAllowed ? 'block' : 'none';\n",
              "\n",
              "        async function convertToInteractive(key) {\n",
              "          const element = document.querySelector('#df-2fb288bb-e5f1-463d-84f5-8f67991b8af6');\n",
              "          const dataTable =\n",
              "            await google.colab.kernel.invokeFunction('convertToInteractive',\n",
              "                                                     [key], {});\n",
              "          if (!dataTable) return;\n",
              "\n",
              "          const docLinkHtml = 'Like what you see? Visit the ' +\n",
              "            '<a target=\"_blank\" href=https://colab.research.google.com/notebooks/data_table.ipynb>data table notebook</a>'\n",
              "            + ' to learn more about interactive tables.';\n",
              "          element.innerHTML = '';\n",
              "          dataTable['output_type'] = 'display_data';\n",
              "          await google.colab.output.renderOutput(dataTable, element);\n",
              "          const docLink = document.createElement('div');\n",
              "          docLink.innerHTML = docLinkHtml;\n",
              "          element.appendChild(docLink);\n",
              "        }\n",
              "      </script>\n",
              "    </div>\n",
              "  </div>\n",
              "  "
            ],
            "text/plain": [
              "     SellerCity  SellerListSrc                                   SellerName  \\\n",
              "6295     Dublin              0                           Cadillac of Dublin   \n",
              "6296   Sandusky              0                    Foster Chevrolet Cadillac   \n",
              "6297  Nashville              1  Vroom (Online Dealer - Nationwide Delivery)   \n",
              "\n",
              "      SellerRating  SellerRevCnt  SellerState  SellerZip  VehCertified  \\\n",
              "6295           4.1          20.0           34        665             1   \n",
              "6296           4.9         278.0           34        769             0   \n",
              "6297           3.8         727.0           41        583             0   \n",
              "\n",
              "      VehColorExt  VehColorInt  ...  VehTransmission  VehYear Vehicle_Trim  \\\n",
              "6295           12           47  ...                0        3       Luxury   \n",
              "6296           12           47  ...                0        2       Luxury   \n",
              "6297           73           73  ...                0        3    Trailhawk   \n",
              "\n",
              "      Dealer_Listing_Price  Owners  Accident  Non_Personal  \\\n",
              "6295               35674.0       0         0             0   \n",
              "6296               31995.0       2         0             1   \n",
              "6297               36280.0       1         0             1   \n",
              "\n",
              "      Buyback_Protection  Title_Issue fea_count  \n",
              "6295                   1            0       259  \n",
              "6296                   1            0       262  \n",
              "6297                   1            0       407  \n",
              "\n",
              "[3 rows x 30 columns]"
            ]
          },
          "execution_count": 49,
          "metadata": {},
          "output_type": "execute_result"
        }
      ],
      "source": [
        "df.tail(3)"
      ]
    },
    {
      "cell_type": "markdown",
      "metadata": {
        "id": "enEVmlvF1_k5"
      },
      "source": [
        "### Feature Selection"
      ]
    },
    {
      "cell_type": "code",
      "execution_count": null,
      "metadata": {
        "id": "FnQZBWi7dpe1"
      },
      "outputs": [],
      "source": [
        "df_clean = df.copy()\n",
        "df_clean = df_clean.drop(['SellerCity','SellerName','VehFeats'], axis=1)"
      ]
    },
    {
      "cell_type": "code",
      "execution_count": null,
      "metadata": {
        "id": "KzHeOTdP3maG"
      },
      "outputs": [],
      "source": [
        "all_featurs = df_clean.drop(['Vehicle_Trim','VehSellerNotes'], axis=1)"
      ]
    },
    {
      "cell_type": "code",
      "execution_count": null,
      "metadata": {
        "id": "XMAkCLRP4Nl_"
      },
      "outputs": [],
      "source": [
        "X =all_featurs.drop('Dealer_Listing_Price', axis=1)\n",
        "y =df_clean['Dealer_Listing_Price']"
      ]
    },
    {
      "cell_type": "code",
      "execution_count": null,
      "metadata": {
        "colab": {
          "base_uri": "https://localhost:8080/",
          "height": 458
        },
        "id": "HmaRTtv82DUJ",
        "outputId": "8ef62776-feb9-4369-8562-5081817ca122"
      },
      "outputs": [
        {
          "data": {
            "image/png": "[encoded data removed]",
            "text/plain": [
              "<Figure size 1800x576 with 1 Axes>"
            ]
          },
          "metadata": {},
          "output_type": "display_data"
        }
      ],
      "source": [
        "from sklearn.feature_selection import mutual_info_classif\n",
        "\n",
        "importances = mutual_info_classif(X,y)\n",
        "feat_importances = pd.Series(importances, X.columns[0:len(X.columns)])\n",
        "feat_importances.plot(kind='barh',color ='teal')\n",
        "plt.show()"
      ]
    },
    {
      "cell_type": "code",
      "execution_count": null,
      "metadata": {
        "colab": {
          "base_uri": "https://localhost:8080/"
        },
        "id": "0lxzwh2nMkEZ",
        "outputId": "a55878cf-9b48-4bdc-c252-adb071a7d89e"
      },
      "outputs": [
        {
          "data": {
            "text/plain": [
              "Buyback_Protection    2.985208\n",
              "VehFuel               2.910529\n",
              "Owners                2.455319\n",
              "VehPriceLabel         1.867743\n",
              "VehMake               1.770127\n",
              "VehMileage            1.265576\n",
              "fea_count             1.208722\n",
              "VehYear               1.164313\n",
              "VehEngine             1.045504\n",
              "VehColorInt           1.022718\n",
              "VehColorExt           0.860792\n",
              "VehListdays           0.800409\n",
              "SellerRating          0.753727\n",
              "Non_Personal          0.750926\n",
              "VehModel              0.746804\n",
              "SellerRevCnt          0.731129\n",
              "SellerListSrc         0.689263\n",
              "SellerZip             0.539175\n",
              "VehDriveTrain         0.514717\n",
              "SellerState           0.424897\n",
              "VehCertified          0.190497\n",
              "Accident              0.117364\n",
              "Title_Issue           0.047638\n",
              "VehTransmission       0.000000\n",
              "dtype: float64"
            ]
          },
          "execution_count": 307,
          "metadata": {},
          "output_type": "execute_result"
        }
      ],
      "source": [
        "feat_importances.sort_values(ascending=False)"
      ]
    },
    {
      "cell_type": "code",
      "execution_count": null,
      "metadata": {
        "colab": {
          "background_save": true
        },
        "id": "N7ew0PH1RW1G"
      },
      "outputs": [],
      "source": [
        "X_selected = X.drop(['VehTransmission','Title_Issue'], axis=1)"
      ]
    },
    {
      "cell_type": "code",
      "execution_count": null,
      "metadata": {
        "colab": {
          "base_uri": "https://localhost:8080/"
        },
        "id": "4OmEgQ5CMxpg",
        "outputId": "eadb804a-15a3-4604-c9a0-fe47506c19a4"
      },
      "outputs": [
        {
          "name": "stderr",
          "output_type": "stream",
          "text": [
            "/usr/local/lib/python3.7/dist-packages/statsmodels/tsa/tsatools.py:117: FutureWarning: In a future version of pandas all arguments of concat except for the argument 'objs' will be keyword-only\n",
            "  x = pd.concat(x[::order], 1)\n"
          ]
        },
        {
          "data": {
            "text/plain": [
              "const                 1.214357e-306\n",
              "SellerListSrc          4.771997e-06\n",
              "SellerRating           5.789452e-01\n",
              "SellerRevCnt           6.756409e-01\n",
              "SellerState            3.886790e-03\n",
              "SellerZip              1.283719e-02\n",
              "VehCertified           4.560763e-03\n",
              "VehColorExt            5.132720e-01\n",
              "VehColorInt            2.503293e-04\n",
              "VehDriveTrain          1.038599e-57\n",
              "VehEngine              9.597280e-52\n",
              "VehFuel                9.995740e-01\n",
              "VehListdays            9.031093e-01\n",
              "VehMake               7.848201e-157\n",
              "VehMileage            2.243570e-155\n",
              "VehModel               0.000000e+00\n",
              "VehPriceLabel         1.256838e-240\n",
              "VehTransmission        3.765889e-01\n",
              "VehYear               3.025758e-161\n",
              "Owners                 2.551617e-02\n",
              "Accident               1.076880e-01\n",
              "Non_Personal           2.241358e-16\n",
              "Buyback_Protection     1.743540e-01\n",
              "Title_Issue            2.364559e-01\n",
              "fea_count              6.840858e-02\n",
              "dtype: float64"
            ]
          },
          "execution_count": 308,
          "metadata": {},
          "output_type": "execute_result"
        }
      ],
      "source": [
        "from sklearn.feature_selection import f_classif\n",
        "\n",
        "importances = f_classif(X,y)\n",
        "feat_importances = pd.Series(importances, X.columns[0:len(X.columns)])\n",
        "feat_importances.plot(kind='barh',color ='teal')\n",
        "plt.show()"
      ]
    },
    {
      "cell_type": "code",
      "execution_count": null,
      "metadata": {
        "colab": {
          "base_uri": "https://localhost:8080/"
        },
        "id": "nTPpNyaXNC2m",
        "outputId": "a10d94f8-6a4f-4f34-f10b-02916ded3c46"
      },
      "outputs": [
        {
          "name": "stdout",
          "output_type": "stream",
          "text": [
            "['SellerListSrc', 'SellerState', 'SellerZip', 'VehCertified', 'VehColorInt', 'VehDriveTrain', 'VehEngine', 'VehMake', 'VehMileage', 'VehModel', 'VehPriceLabel', 'VehYear', 'Owners', 'Non_Personal']\n"
          ]
        },
        {
          "name": "stderr",
          "output_type": "stream",
          "text": [
            "/usr/local/lib/python3.7/dist-packages/statsmodels/tsa/tsatools.py:117: FutureWarning: In a future version of pandas all arguments of concat except for the argument 'objs' will be keyword-only\n",
            "  x = pd.concat(x[::order], 1)\n"
          ]
        }
      ],
      "source": [
        "#Backward Elimination\n",
        "cols = list(X.columns)\n",
        "pmax = 1\n",
        "while (len(cols)>0):\n",
        "    p= []\n",
        "    X_1 = X[cols]\n",
        "    X_1 = sm.add_constant(X_1)\n",
        "    model = sm.OLS(y,X_1).fit()\n",
        "    p = pd.Series(model.pvalues.values[1:],index = cols)      \n",
        "    pmax = max(p)\n",
        "    feature_with_p_max = p.idxmax()\n",
        "    if(pmax>0.05):\n",
        "        cols.remove(feature_with_p_max)\n",
        "    else:\n",
        "        break\n",
        "selected_features_BE = cols\n",
        "print(selected_features_BE)"
      ]
    },
    {
      "cell_type": "code",
      "execution_count": null,
      "metadata": {
        "colab": {
          "base_uri": "https://localhost:8080/"
        },
        "id": "NsB8IoiyNJlb",
        "outputId": "2509f6a3-1517-408f-f9d4-d7cabd5acd5d"
      },
      "outputs": [
        {
          "data": {
            "text/plain": [
              "14"
            ]
          },
          "execution_count": 310,
          "metadata": {},
          "output_type": "execute_result"
        }
      ],
      "source": [
        "len(selected_features_BE)"
      ]
    },
    {
      "cell_type": "code",
      "execution_count": null,
      "metadata": {
        "colab": {
          "base_uri": "https://localhost:8080/"
        },
        "id": "2yORL1O6UfCw",
        "outputId": "001265fa-c45c-41f7-8d94-ca9a8ed27b3c"
      },
      "outputs": [
        {
          "data": {
            "text/plain": [
              "['SellerListSrc',\n",
              " 'SellerState',\n",
              " 'SellerZip',\n",
              " 'VehCertified',\n",
              " 'VehColorInt',\n",
              " 'VehDriveTrain',\n",
              " 'VehEngine',\n",
              " 'VehMake',\n",
              " 'VehMileage',\n",
              " 'VehModel',\n",
              " 'VehPriceLabel',\n",
              " 'VehYear',\n",
              " 'Owners',\n",
              " 'Non_Personal']"
            ]
          },
          "execution_count": 311,
          "metadata": {},
          "output_type": "execute_result"
        }
      ],
      "source": [
        "selected_features_BE"
      ]
    },
    {
      "cell_type": "code",
      "execution_count": null,
      "metadata": {
        "id": "ysSB2DaXO5V8"
      },
      "outputs": [],
      "source": [
        "#X=X[['SellerListSrc','SellerState','SellerZip''VehCertified','VehColorInt',\n",
        " #'VehDriveTrain','VehEngine','VehMake','VehMileage','VehModel',\n",
        " #'VehPriceLabel','VehYear','Owners',\n",
        "#'Non_Personal']]\n",
        "   "
      ]
    },
    {
      "cell_type": "markdown",
      "metadata": {
        "id": "hZqqSOK1OMVD"
      },
      "source": [
        "## Model"
      ]
    },
    {
      "cell_type": "markdown",
      "metadata": {
        "id": "VbzxWIIp9Jl3"
      },
      "source": [
        "### LR"
      ]
    },
    {
      "cell_type": "code",
      "execution_count": null,
      "metadata": {
        "id": "43ir55gFOPjF"
      },
      "outputs": [],
      "source": [
        "from sklearn.preprocessing import MinMaxScaler\n",
        "from sklearn.model_selection import train_test_split\n",
        "\n",
        "trans = MinMaxScaler()\n",
        "X_scaled = trans.fit_transform(X_selected)\n",
        "\n",
        "X_train,X_test,y_train,y_test=train_test_split(X_scaled,y,test_size =0.2,random_state=21)"
      ]
    },
    {
      "cell_type": "code",
      "execution_count": null,
      "metadata": {
        "colab": {
          "base_uri": "https://localhost:8080/"
        },
        "id": "_d48LPd0RpWn",
        "outputId": "049c07ac-e320-4416-f060-e004a2df00a3"
      },
      "outputs": [
        {
          "data": {
            "text/plain": [
              "LinearRegression()"
            ]
          },
          "execution_count": 339,
          "metadata": {},
          "output_type": "execute_result"
        }
      ],
      "source": [
        "from sklearn.linear_model import LinearRegression\n",
        "\n",
        "lr=LinearRegression()\n",
        "\n",
        "lr.fit(X_train,y_train)"
      ]
    },
    {
      "cell_type": "code",
      "execution_count": null,
      "metadata": {
        "colab": {
          "base_uri": "https://localhost:8080/"
        },
        "id": "bUEHuTjdS-tD",
        "outputId": "6dcd7119-bc14-4bdc-d741-149736655b28"
      },
      "outputs": [
        {
          "name": "stdout",
          "output_type": "stream",
          "text": [
            "training data result\n",
            "mean absolute error is:  2939.4952535248012\n",
            "               mape is:  8.943425783338235\n",
            " mean squared error is:  21213391.400097456\n",
            "           R2_score is:  0.6071031004966853\n",
            "  Adjusted R2 score is:  0.6051519195059238\n",
            "testing data result\n",
            "mean absolute error is:  3256.9056093461954\n",
            "               mape is:  9.541091663792706\n",
            " mean squared error is:  28422438.50837012\n",
            "           R2_score is:  0.6022769354349562\n",
            "  Adjusted R2 score is:  0.5942568553062386\n"
          ]
        }
      ],
      "source": [
        "print('training data result')\n",
        "predictions = lr.predict(X_train)\n",
        "\n",
        "print('mean absolute error is: ',metrics.mean_absolute_error(y_train,predictions))\n",
        "print('               mape is: ',np.mean(np.abs((y_train - predictions) / y_train))*100)\n",
        "print(' mean squared error is: ',metrics.mean_squared_error(y_train,predictions))\n",
        "print('           R2_score is: ',metrics.r2_score(y_train,predictions))\n",
        "n=X_train.shape[0]\n",
        "p=X_train.shape[1]\n",
        "print('  Adjusted R2 score is: ',1-(1-metrics.r2_score(y_train,predictions))*((n-1)/(n-p-1)))\n",
        "\n",
        "\n",
        "print('testing data result')\n",
        "predictions = lr.predict(X_test)\n",
        "print('mean absolute error is: ',metrics.mean_absolute_error(y_test,predictions))\n",
        "print('               mape is: ',np.mean(np.abs((y_test - predictions) / y_test))*100)\n",
        "print(' mean squared error is: ',metrics.mean_squared_error(y_test,predictions))\n",
        "print('           R2_score is: ',metrics.r2_score(y_test,predictions))\n",
        "n=X_test.shape[0]\n",
        "p=X_test.shape[1]\n",
        "print('  Adjusted R2 score is: ',1-(1-metrics.r2_score(y_test,predictions))*((n-1)/(n-p-1)))\n"
      ]
    },
    {
      "cell_type": "markdown",
      "metadata": {
        "id": "s6o_9iZiYwaU"
      },
      "source": [
        "### RF"
      ]
    },
    {
      "cell_type": "code",
      "execution_count": null,
      "metadata": {
        "id": "mBgQCHAFTjTI"
      },
      "outputs": [],
      "source": [
        "from sklearn.preprocessing import StandardScaler\n",
        "\n",
        "X_train,X_test,y_train,y_test=train_test_split(X_selected,y,test_size=0.2,random_state=25)\n",
        "scaler=MinMaxScaler()\n",
        "\n",
        "X_train_scaled=scaler.fit_transform(X_train)\n",
        "X_test_scaled=scaler.transform(X_test)"
      ]
    },
    {
      "cell_type": "code",
      "execution_count": null,
      "metadata": {
        "colab": {
          "base_uri": "https://localhost:8080/"
        },
        "id": "wQlOJ-IoW73o",
        "outputId": "a2111a87-c86f-46c8-ee78-b91aa87683bb"
      },
      "outputs": [
        {
          "data": {
            "text/plain": [
              "RandomForestRegressor(n_estimators=1000, random_state=42)"
            ]
          },
          "execution_count": 342,
          "metadata": {},
          "output_type": "execute_result"
        }
      ],
      "source": [
        "from sklearn.ensemble import RandomForestRegressor\n",
        "\n",
        "rf = RandomForestRegressor(n_estimators = 1000, random_state = 42)\n",
        "rf.fit(X_train_scaled, y_train)"
      ]
    },
    {
      "cell_type": "code",
      "execution_count": null,
      "metadata": {
        "colab": {
          "base_uri": "https://localhost:8080/"
        },
        "id": "i9K01zK7ekuw",
        "outputId": "78970773-78b2-40f3-fbf1-3958f8fe8ff7"
      },
      "outputs": [
        {
          "name": "stdout",
          "output_type": "stream",
          "text": [
            "training data result\n",
            "mean absolute error is:  728.1388744666516\n",
            "               mape is:  2.190138139111063\n",
            " mean squared error is:  1582882.4298066157\n",
            "           R2_score is:  0.9721191770434333\n",
            "  Adjusted R2 score is:  0.9715569606318435\n"
          ]
        }
      ],
      "source": [
        "print('training data result')\n",
        "predictions = rf.predict(X_train_scaled)\n",
        "\n",
        "print('mean absolute error is: ',metrics.mean_absolute_error(y_train,predictions))\n",
        "print('               mape is: ',np.mean(np.abs((y_train - predictions) / y_train))*100)\n",
        "print(' mean squared error is: ',metrics.mean_squared_error(y_train,predictions))\n",
        "print('           R2_score is: ',metrics.r2_score(y_train,predictions))\n",
        "n=X_test_scaled.shape[0]\n",
        "p=X_test_scaled.shape[1]\n",
        "print('  Adjusted R2 score is: ',1-(1-metrics.r2_score(y_train,predictions))*((n-1)/(n-p-1)))"
      ]
    },
    {
      "cell_type": "code",
      "execution_count": null,
      "metadata": {
        "colab": {
          "base_uri": "https://localhost:8080/"
        },
        "id": "uT-VM8S3XT7w",
        "outputId": "ba83bf9a-57fd-47d5-d062-beb367c28611"
      },
      "outputs": [
        {
          "name": "stdout",
          "output_type": "stream",
          "text": [
            "testing data result\n",
            "mean absolute error is:  1981.437540394973\n",
            "               mape is:  5.963317354047091\n",
            " mean squared error is:  9594415.9809067\n",
            "           R2_score is:  0.8411566581513084\n",
            "  Adjusted R2 score is:  0.8379535843468434\n"
          ]
        }
      ],
      "source": [
        "print('testing data result')\n",
        "predictions = rf.predict(X_test_scaled)\n",
        "\n",
        "print('mean absolute error is: ',metrics.mean_absolute_error(y_test,predictions))\n",
        "print('               mape is: ',np.mean(np.abs((y_test - predictions) / y_test))*100)\n",
        "print(' mean squared error is: ',metrics.mean_squared_error(y_test,predictions))\n",
        "print('           R2_score is: ',metrics.r2_score(y_test,predictions))\n",
        "n=X_test_scaled.shape[0]\n",
        "p=X_test_scaled.shape[1]\n",
        "print('  Adjusted R2 score is: ',1-(1-metrics.r2_score(y_test,predictions))*((n-1)/(n-p-1)))"
      ]
    },
    {
      "cell_type": "markdown",
      "metadata": {
        "id": "nwmNz3F1bHUd"
      },
      "source": [
        "### XGBoost"
      ]
    },
    {
      "cell_type": "code",
      "execution_count": null,
      "metadata": {
        "colab": {
          "base_uri": "https://localhost:8080/"
        },
        "id": "YfU6LFqkYMas",
        "outputId": "54d9016d-3acb-4a1c-8d69-0c07bd0ca719"
      },
      "outputs": [
        {
          "name": "stdout",
          "output_type": "stream",
          "text": [
            "[10:40:55] WARNING: /workspace/src/objective/regression_obj.cu:152: reg:linear is now deprecated in favor of reg:squarederror.\n"
          ]
        },
        {
          "data": {
            "text/plain": [
              "XGBRegressor(alpha=12, colsample_bytree=0.8, max_depth=6, n_estimators=200)"
            ]
          },
          "execution_count": 345,
          "metadata": {},
          "output_type": "execute_result"
        }
      ],
      "source": [
        "import xgboost as xgb\n",
        "\n",
        "X_train,X_test,y_train,y_test=train_test_split(X_selected,y,test_size=0.2,random_state=25)\n",
        "\n",
        "data_dmatrix = xgb.DMatrix(data=X,label=y)\n",
        "\n",
        "xg_reg = xgb.XGBRegressor(colsample_bytree = 0.8, learning_rate = 0.1, max_depth = 6, alpha = 12, n_estimators = 200)\n",
        "xg_reg.fit(X_train,y_train)"
      ]
    },
    {
      "cell_type": "code",
      "execution_count": null,
      "metadata": {
        "colab": {
          "base_uri": "https://localhost:8080/"
        },
        "id": "4SZ6pGfDdhMT",
        "outputId": "416fc14e-a799-46a9-ca0e-dc1c6555886b"
      },
      "outputs": [
        {
          "name": "stdout",
          "output_type": "stream",
          "text": [
            "training data result\n",
            "mean absolute error is:  901.0389238996182\n",
            "               mape is:  2.9118323585010533\n",
            " mean squared error is:  1433918.0343326575\n",
            "           R2_score is:  0.9747430294906103\n",
            "  Adjusted R2 score is:  0.9742337230275429\n"
          ]
        }
      ],
      "source": [
        "print('training data result')\n",
        "predictions = xg_reg.predict(X_train)\n",
        "\n",
        "print('mean absolute error is: ',metrics.mean_absolute_error(y_train,predictions))\n",
        "print('               mape is: ',np.mean(np.abs((y_train - predictions) / y_train))*100)\n",
        "print(' mean squared error is: ',metrics.mean_squared_error(y_train,predictions))\n",
        "print('           R2_score is: ',metrics.r2_score(y_train,predictions))\n",
        "n=X_test_scaled.shape[0]\n",
        "p=X_test_scaled.shape[1]\n",
        "print('  Adjusted R2 score is: ',1-(1-metrics.r2_score(y_train,predictions))*((n-1)/(n-p-1)))"
      ]
    },
    {
      "cell_type": "code",
      "execution_count": null,
      "metadata": {
        "colab": {
          "base_uri": "https://localhost:8080/"
        },
        "id": "qLeuNYribrGF",
        "outputId": "88d8c734-64cd-49e4-8dd5-f086379cbf2f"
      },
      "outputs": [
        {
          "name": "stdout",
          "output_type": "stream",
          "text": [
            "testing data result\n",
            "mean absolute error is:  1849.026851085615\n",
            "               mape is:  5.682630810966288\n",
            " mean squared error is:  7008252.416104182\n",
            "           R2_score is:  0.8839726944809877\n",
            "  Adjusted R2 score is:  0.8816330054604393\n"
          ]
        }
      ],
      "source": [
        "print('testing data result')\n",
        "\n",
        "predictions = xg_reg.predict(X_test)\n",
        "\n",
        "print('mean absolute error is: ',metrics.mean_absolute_error(y_test,predictions))\n",
        "print('               mape is: ',np.mean(np.abs((y_test - predictions) / y_test))*100)\n",
        "print(' mean squared error is: ',metrics.mean_squared_error(y_test,predictions))\n",
        "print('           R2_score is: ',metrics.r2_score(y_test,predictions))\n",
        "n=X_test_scaled.shape[0]\n",
        "p=X_test_scaled.shape[1]\n",
        "print('  Adjusted R2 score is: ',1-(1-metrics.r2_score(y_test,predictions))*((n-1)/(n-p-1)))"
      ]
    },
    {
      "cell_type": "markdown",
      "metadata": {
        "id": "ffZKG417gGdy"
      },
      "source": [
        "## multi label Model"
      ]
    },
    {
      "cell_type": "code",
      "execution_count": null,
      "metadata": {
        "id": "NS2RxHGBq1c_"
      },
      "outputs": [],
      "source": [
        "all = df_clean.drop(['Dealer_Listing_Price','VehSellerNotes'], axis=1)\n",
        "X = all.drop('Vehicle_Trim', axis=1)\n",
        "Y= all.Vehicle_Trim"
      ]
    },
    {
      "cell_type": "code",
      "execution_count": null,
      "metadata": {
        "colab": {
          "base_uri": "https://localhost:8080/"
        },
        "id": "qYwPgJTNsj1w",
        "outputId": "5c9272b8-6d50-4ce4-84e5-312ce96fc363"
      },
      "outputs": [
        {
          "data": {
            "text/plain": [
              "limited             1838\n",
              "premium              761\n",
              "laredo               721\n",
              "luxury               667\n",
              "overland             373\n",
              "altitude             354\n",
              "summit               222\n",
              "base                 200\n",
              "trailhawk            164\n",
              "platinum             137\n",
              "srt                   72\n",
              "trackhawk             29\n",
              "sterling edition      26\n",
              "upland                 3\n",
              "Name: Vehicle_Trim, dtype: int64"
            ]
          },
          "execution_count": 222,
          "metadata": {},
          "output_type": "execute_result"
        }
      ],
      "source": [
        "Y.value_counts()"
      ]
    },
    {
      "cell_type": "code",
      "execution_count": null,
      "metadata": {
        "colab": {
          "base_uri": "https://localhost:8080/"
        },
        "id": "kd4I4zjmrxlR",
        "outputId": "52713de8-2443-447a-95bb-fd0b8817d050"
      },
      "outputs": [
        {
          "data": {
            "text/plain": [
              "Index(['altitude', 'base', 'laredo', 'limited', 'luxury', 'overland',\n",
              "       'platinum', 'premium', 'srt', 'sterling edition', 'summit', 'trackhawk',\n",
              "       'trailhawk', 'upland'],\n",
              "      dtype='object')"
            ]
          },
          "execution_count": 226,
          "metadata": {},
          "output_type": "execute_result"
        }
      ],
      "source": [
        "y = pd.get_dummies(Y, columns=[0])\n",
        "trim_names = y.columns\n",
        "trim_names"
      ]
    },
    {
      "cell_type": "code",
      "execution_count": null,
      "metadata": {
        "colab": {
          "base_uri": "https://localhost:8080/"
        },
        "id": "th1URlAXwW1j",
        "outputId": "70f3e5fd-ca4d-4a34-ce7e-58780fc8cab7"
      },
      "outputs": [
        {
          "data": {
            "text/plain": [
              "array([[0, 0, 1, ..., 0, 0, 0],\n",
              "       [0, 0, 0, ..., 0, 0, 0],\n",
              "       [0, 0, 0, ..., 0, 0, 0],\n",
              "       ...,\n",
              "       [0, 0, 0, ..., 0, 0, 0],\n",
              "       [0, 0, 0, ..., 0, 0, 0],\n",
              "       [0, 0, 0, ..., 0, 1, 0]], dtype=uint8)"
            ]
          },
          "execution_count": 209,
          "metadata": {},
          "output_type": "execute_result"
        }
      ],
      "source": [
        "y.to_numpy()"
      ]
    },
    {
      "cell_type": "code",
      "execution_count": null,
      "metadata": {
        "id": "qB7_-RmEgaZr"
      },
      "outputs": [],
      "source": [
        "scaler=MinMaxScaler()\n",
        "X_scaled=scaler.fit_transform(X)#.toarray()\n",
        "\n",
        "X_train,X_test,y_train,y_test = train_test_split(X_scaled,y,test_size=0.2,random_state=42)"
      ]
    },
    {
      "cell_type": "markdown",
      "metadata": {
        "id": "wjx2VPWYyi73"
      },
      "source": [
        "#### RF"
      ]
    },
    {
      "cell_type": "code",
      "execution_count": null,
      "metadata": {
        "colab": {
          "base_uri": "https://localhost:8080/"
        },
        "id": "NJskRaXbyBZo",
        "outputId": "92c835cf-4a03-4d81-d3fd-9a1fe2365a7f"
      },
      "outputs": [
        {
          "data": {
            "text/plain": [
              "BinaryRelevance(classifier=RandomForestClassifier(),\n",
              "                require_dense=[False, True])"
            ]
          },
          "execution_count": 211,
          "metadata": {},
          "output_type": "execute_result"
        }
      ],
      "source": [
        "from skmultilearn.problem_transform import BinaryRelevance\n",
        "from sklearn.ensemble import RandomForestClassifier\n",
        "\n",
        "classifier = BinaryRelevance(classifier = RandomForestClassifier(),require_dense = [False, True])\n",
        "classifier.fit(X_train, y_train)"
      ]
    },
    {
      "cell_type": "code",
      "execution_count": null,
      "metadata": {
        "colab": {
          "base_uri": "https://localhost:8080/"
        },
        "id": "4ASS0YStyXWc",
        "outputId": "24c64f96-5e94-497b-f8bd-13d18ef80ad3"
      },
      "outputs": [
        {
          "name": "stdout",
          "output_type": "stream",
          "text": [
            "Binary Relevance F1-score: 0.804\n",
            "Binary Relevance Hamming Loss: 0.025\n"
          ]
        }
      ],
      "source": [
        "predictions = classifier.predict(X_test)\n",
        "\n",
        "br_f1=metrics.f1_score(y_test, predictions, average='micro')\n",
        "br_hamm=metrics.hamming_loss(y_test,predictions)\n",
        "print('Binary Relevance F1-score:',round(br_f1,3))\n",
        "print('Binary Relevance Hamming Loss:',round(br_hamm,3))"
      ]
    },
    {
      "cell_type": "markdown",
      "metadata": {
        "id": "Gzn_hhnJzSAr"
      },
      "source": [
        "#### RF- Chain"
      ]
    },
    {
      "cell_type": "code",
      "execution_count": null,
      "metadata": {
        "id": "LTKou_Qo1J14"
      },
      "outputs": [],
      "source": [
        "y = y.to_numpy()"
      ]
    },
    {
      "cell_type": "code",
      "execution_count": null,
      "metadata": {
        "colab": {
          "base_uri": "https://localhost:8080/"
        },
        "id": "CeCDbvuokeLw",
        "outputId": "0913901e-2289-469f-92ca-d411bd342c58"
      },
      "outputs": [
        {
          "data": {
            "text/plain": [
              "ClassifierChain(classifier=RandomForestClassifier(),\n",
              "                order=[0, 1, 2, 3, 4, 5, 6, 7, 8, 9, 10, 11, 12, 13],\n",
              "                require_dense=[False, True])"
            ]
          },
          "execution_count": 216,
          "metadata": {},
          "output_type": "execute_result"
        }
      ],
      "source": [
        "from skmultilearn.problem_transform import ClassifierChain\n",
        "\n",
        "classifier = ClassifierChain(classifier = RandomForestClassifier(),require_dense = [False, True],order=[i for i in range(y.shape[1])])\n",
        "classifier.fit(X_train,y_train)"
      ]
    },
    {
      "cell_type": "code",
      "execution_count": null,
      "metadata": {
        "colab": {
          "base_uri": "https://localhost:8080/"
        },
        "id": "AFeDgTYbwJew",
        "outputId": "2c701b82-485a-4470-8226-e2df3f6f296e"
      },
      "outputs": [
        {
          "name": "stdout",
          "output_type": "stream",
          "text": [
            "Binary Relevance F1-score: 0.813\n",
            "Binary Relevance Hamming Loss: 0.026\n"
          ]
        }
      ],
      "source": [
        "predictions = classifier.predict(X_test)\n",
        "\n",
        "br_f1=metrics.f1_score(y_test, predictions, average='micro')\n",
        "br_hamm=metrics.hamming_loss(y_test,predictions)\n",
        "print('Binary Relevance F1-score:',round(br_f1,3))\n",
        "print('Binary Relevance Hamming Loss:',round(br_hamm,3))"
      ]
    },
    {
      "cell_type": "code",
      "execution_count": null,
      "metadata": {
        "id": "SPrXEdOuAPea"
      },
      "outputs": [],
      "source": [
        "temp = pd.DataFrame(predictions.todense(),columns= trim_names)\n",
        "new_df = temp.idxmax(axis=1)"
      ]
    },
    {
      "cell_type": "markdown",
      "metadata": {
        "id": "D3LBzDH-2bYQ"
      },
      "source": [
        "## Test data "
      ]
    },
    {
      "cell_type": "code",
      "execution_count": null,
      "metadata": {
        "id": "mRwFUcEX2ODT"
      },
      "outputs": [],
      "source": [
        "t_data = pd.read_csv('Test_Dataset.csv')"
      ]
    },
    {
      "cell_type": "markdown",
      "metadata": {
        "id": "LidVR4Zf5kCq"
      },
      "source": [
        "### Pre-processing"
      ]
    },
    {
      "cell_type": "code",
      "execution_count": null,
      "metadata": {
        "colab": {
          "base_uri": "https://localhost:8080/",
          "height": 363
        },
        "id": "JozdpGOg3q_r",
        "outputId": "11d72d2f-fa0e-4cd3-9a28-684499d3a2b4"
      },
      "outputs": [
        {
          "data": {
            "text/html": [
              "\n",
              "  <div id=\"df-2e506db1-ff2e-4eae-9650-c4646508ca2e\">\n",
              "    <div class=\"colab-df-container\">\n",
              "      <div>\n",
              "<style scoped>\n",
              "    .dataframe tbody tr th:only-of-type {\n",
              "        vertical-align: middle;\n",
              "    }\n",
              "\n",
              "    .dataframe tbody tr th {\n",
              "        vertical-align: top;\n",
              "    }\n",
              "\n",
              "    .dataframe thead th {\n",
              "        text-align: right;\n",
              "    }\n",
              "</style>\n",
              "<table border=\"1\" class=\"dataframe\">\n",
              "  <thead>\n",
              "    <tr style=\"text-align: right;\">\n",
              "      <th></th>\n",
              "      <th>Total</th>\n",
              "      <th>Percent</th>\n",
              "    </tr>\n",
              "  </thead>\n",
              "  <tbody>\n",
              "    <tr>\n",
              "      <th>VehColorInt</th>\n",
              "      <td>108</td>\n",
              "      <td>0.108</td>\n",
              "    </tr>\n",
              "    <tr>\n",
              "      <th>VehDriveTrain</th>\n",
              "      <td>64</td>\n",
              "      <td>0.064</td>\n",
              "    </tr>\n",
              "    <tr>\n",
              "      <th>VehEngine</th>\n",
              "      <td>58</td>\n",
              "      <td>0.058</td>\n",
              "    </tr>\n",
              "    <tr>\n",
              "      <th>VehSellerNotes</th>\n",
              "      <td>41</td>\n",
              "      <td>0.041</td>\n",
              "    </tr>\n",
              "    <tr>\n",
              "      <th>VehPriceLabel</th>\n",
              "      <td>38</td>\n",
              "      <td>0.038</td>\n",
              "    </tr>\n",
              "    <tr>\n",
              "      <th>VehFeats</th>\n",
              "      <td>37</td>\n",
              "      <td>0.037</td>\n",
              "    </tr>\n",
              "    <tr>\n",
              "      <th>VehTransmission</th>\n",
              "      <td>27</td>\n",
              "      <td>0.027</td>\n",
              "    </tr>\n",
              "    <tr>\n",
              "      <th>VehHistory</th>\n",
              "      <td>27</td>\n",
              "      <td>0.027</td>\n",
              "    </tr>\n",
              "    <tr>\n",
              "      <th>VehColorExt</th>\n",
              "      <td>7</td>\n",
              "      <td>0.007</td>\n",
              "    </tr>\n",
              "    <tr>\n",
              "      <th>VehMileage</th>\n",
              "      <td>1</td>\n",
              "      <td>0.001</td>\n",
              "    </tr>\n",
              "  </tbody>\n",
              "</table>\n",
              "</div>\n",
              "      <button class=\"colab-df-convert\" onclick=\"convertToInteractive('df-2e506db1-ff2e-4eae-9650-c4646508ca2e')\"\n",
              "              title=\"Convert this dataframe to an interactive table.\"\n",
              "              style=\"display:none;\">\n",
              "        \n",
              "  <svg xmlns=\"http://www.w3.org/2000/svg\" height=\"24px\"viewBox=\"0 0 24 24\"\n",
              "       width=\"24px\">\n",
              "    <path d=\"M0 0h24v24H0V0z\" fill=\"none\"/>\n",
              "    <path d=\"M18.56 5.44l.94 2.06.94-2.06 2.06-.94-2.06-.94-.94-2.06-.94 2.06-2.06.94zm-11 1L8.5 8.5l.94-2.06 2.06-.94-2.06-.94L8.5 2.5l-.94 2.06-2.06.94zm10 10l.94 2.06.94-2.06 2.06-.94-2.06-.94-.94-2.06-.94 2.06-2.06.94z\"/><path d=\"M17.41 7.96l-1.37-1.37c-.4-.4-.92-.59-1.43-.59-.52 0-1.04.2-1.43.59L10.3 9.45l-7.72 7.72c-.78.78-.78 2.05 0 2.83L4 21.41c.39.39.9.59 1.41.59.51 0 1.02-.2 1.41-.59l7.78-7.78 2.81-2.81c.8-.78.8-2.07 0-2.86zM5.41 20L4 18.59l7.72-7.72 1.47 1.35L5.41 20z\"/>\n",
              "  </svg>\n",
              "      </button>\n",
              "      \n",
              "  <style>\n",
              "    .colab-df-container {\n",
              "      display:flex;\n",
              "      flex-wrap:wrap;\n",
              "      gap: 12px;\n",
              "    }\n",
              "\n",
              "    .colab-df-convert {\n",
              "      background-color: #E8F0FE;\n",
              "      border: none;\n",
              "      border-radius: 50%;\n",
              "      cursor: pointer;\n",
              "      display: none;\n",
              "      fill: #1967D2;\n",
              "      height: 32px;\n",
              "      padding: 0 0 0 0;\n",
              "      width: 32px;\n",
              "    }\n",
              "\n",
              "    .colab-df-convert:hover {\n",
              "      background-color: #E2EBFA;\n",
              "      box-shadow: 0px 1px 2px rgba(60, 64, 67, 0.3), 0px 1px 3px 1px rgba(60, 64, 67, 0.15);\n",
              "      fill: #174EA6;\n",
              "    }\n",
              "\n",
              "    [theme=dark] .colab-df-convert {\n",
              "      background-color: #3B4455;\n",
              "      fill: #D2E3FC;\n",
              "    }\n",
              "\n",
              "    [theme=dark] .colab-df-convert:hover {\n",
              "      background-color: #434B5C;\n",
              "      box-shadow: 0px 1px 3px 1px rgba(0, 0, 0, 0.15);\n",
              "      filter: drop-shadow(0px 1px 2px rgba(0, 0, 0, 0.3));\n",
              "      fill: #FFFFFF;\n",
              "    }\n",
              "  </style>\n",
              "\n",
              "      <script>\n",
              "        const buttonEl =\n",
              "          document.querySelector('#df-2e506db1-ff2e-4eae-9650-c4646508ca2e button.colab-df-convert');\n",
              "        buttonEl.style.display =\n",
              "          google.colab.kernel.accessAllowed ? 'block' : 'none';\n",
              "\n",
              "        async function convertToInteractive(key) {\n",
              "          const element = document.querySelector('#df-2e506db1-ff2e-4eae-9650-c4646508ca2e');\n",
              "          const dataTable =\n",
              "            await google.colab.kernel.invokeFunction('convertToInteractive',\n",
              "                                                     [key], {});\n",
              "          if (!dataTable) return;\n",
              "\n",
              "          const docLinkHtml = 'Like what you see? Visit the ' +\n",
              "            '<a target=\"_blank\" href=https://colab.research.google.com/notebooks/data_table.ipynb>data table notebook</a>'\n",
              "            + ' to learn more about interactive tables.';\n",
              "          element.innerHTML = '';\n",
              "          dataTable['output_type'] = 'display_data';\n",
              "          await google.colab.output.renderOutput(dataTable, element);\n",
              "          const docLink = document.createElement('div');\n",
              "          docLink.innerHTML = docLinkHtml;\n",
              "          element.appendChild(docLink);\n",
              "        }\n",
              "      </script>\n",
              "    </div>\n",
              "  </div>\n",
              "  "
            ],
            "text/plain": [
              "                 Total  Percent\n",
              "VehColorInt        108    0.108\n",
              "VehDriveTrain       64    0.064\n",
              "VehEngine           58    0.058\n",
              "VehSellerNotes      41    0.041\n",
              "VehPriceLabel       38    0.038\n",
              "VehFeats            37    0.037\n",
              "VehTransmission     27    0.027\n",
              "VehHistory          27    0.027\n",
              "VehColorExt          7    0.007\n",
              "VehMileage           1    0.001"
            ]
          },
          "execution_count": 269,
          "metadata": {},
          "output_type": "execute_result"
        }
      ],
      "source": [
        "total = t_data.isnull().sum().sort_values(ascending=False)\n",
        "percent = (t_data.isnull().sum()/t_data.isnull().count()).sort_values(ascending=False)\n",
        "missing_data = pd.concat([total, percent], axis=1, keys=['Total', 'Percent'])\n",
        "missing_data.head(10)"
      ]
    },
    {
      "cell_type": "code",
      "execution_count": null,
      "metadata": {
        "id": "PH0bszH731IN"
      },
      "outputs": [],
      "source": [
        "t_data['VehColorInt'] = t_data.VehColorInt.fillna('Other')\n",
        "t_data['VehDriveTrain'] = t_data['VehDriveTrain'].fillna(method='ffill')\n",
        "t_data['VehEngine'] = t_data['VehEngine'].fillna(method='ffill')\n",
        "t_data['VehPriceLabel'] = t_data['VehPriceLabel'].fillna(method='ffill')\n",
        "t_data['VehColorExt'] = t_data.VehColorExt.fillna('Other')\n",
        "t_data['VehTransmission'] = t_data.VehTransmission.fillna('Not Specified')\n",
        "t_data['VehMileage'] = t_data.VehMileage.fillna(t_data.VehMileage.mean())"
      ]
    },
    {
      "cell_type": "code",
      "execution_count": null,
      "metadata": {
        "id": "hfqtHZV051IY"
      },
      "outputs": [],
      "source": [
        "t_data =t_data.drop(['SellerIsPriv','VehBodystyle','VehType'], axis=1)\n",
        "\n",
        "t_data[\"VehTransmission\"] = t_data[\"VehTransmission\"].str.lower()\n",
        "t_data[\"VehTransmission\"]=t_data[\"VehTransmission\"].mask(t_data[\"VehTransmission\"].str.contains('a.*t*.*', regex=True),'automatic')\n",
        "t_data[\"VehTransmission\"]=t_data[\"VehTransmission\"].mask(t_data[\"VehTransmission\"].str.contains('automatic')== False,'not specified')\n",
        "\n",
        "t_data[\"VehDriveTrain\"] = t_data[\"VehDriveTrain\"].str.lower()\n",
        "# 4WD\n",
        "t_data['VehDriveTrain'].mask(t_data['VehDriveTrain'] == '4x4/4wd', '4wd', inplace=True)\n",
        "t_data['VehDriveTrain'].mask(t_data['VehDriveTrain'] == '4x4', '4wd', inplace=True)\n",
        "t_data['VehDriveTrain'].mask(t_data['VehDriveTrain'] == 'four wheel drive', '4wd', inplace=True)\n",
        "t_data['VehDriveTrain'].mask(t_data['VehDriveTrain'] == '4x4/4-wheel drive', '4wd', inplace=True)\n",
        "# FWD\n",
        "t_data['VehDriveTrain'].mask(t_data['VehDriveTrain'] == 'front wheel drive', 'fwd', inplace=True)\n",
        "t_data['VehDriveTrain'].mask(t_data['VehDriveTrain'] == 'front-wheel drive', 'fwd', inplace=True)\n",
        "t_data['VehDriveTrain'].mask(t_data['VehDriveTrain'] == '2wd', 'fwd', inplace=True)\n",
        "# AWD\n",
        "t_data['VehDriveTrain'].mask(t_data['VehDriveTrain'] == 'all wheel', 'awd', inplace=True)\n",
        "t_data['VehDriveTrain'].mask(t_data['VehDriveTrain'] == 'all wheel drive', 'awd', inplace=True)\n",
        "t_data['VehDriveTrain'].mask(t_data['VehDriveTrain'] == 'all-wheel drive', 'awd', inplace=True)\n",
        "t_data['VehDriveTrain'].mask(t_data['VehDriveTrain'] == 'allwheeldrive', 'awd', inplace=True)\n",
        "t_data['VehDriveTrain'].mask(t_data['VehDriveTrain'] == 'awd or 4x4', 'awd', inplace=True)\n",
        "t_data['VehDriveTrain'].mask(t_data['VehDriveTrain'] == '4wd/awd', 'awd', inplace=True)\n",
        "t_data['VehDriveTrain'].mask(t_data['VehDriveTrain'] == 'all-wheel drive with locking and limited-slip differential', 'awd', inplace=True)\n",
        "\n",
        "\n",
        "history = t_data[\"VehHistory\"].str.split(\",\", n = 1, expand = True)\n",
        "\n",
        "t_data['Owners']=history[0].str.split(\" \", n = 1, expand = True)[0]\n",
        "t_data['Owners'] = t_data.Owners.fillna(method='ffill').astype(int)\n",
        "t_data['Accident'] =history[1].str.contains('Accident', regex=False)\n",
        "t_data['Non_Personal'] = history[1].str.contains('Non-Personal', regex=False)\n",
        "t_data['Buyback_Protection'] = history[1].str.contains('Buyback Protection', regex=False)\n",
        "t_data['Title_Issue'] = history[1].str.contains('Title Issue(s)', regex=False)\n",
        "t_data['Accident'] = t_data.Accident.fillna(0)\n",
        "t_data['Non_Personal'] = t_data.Non_Personal.fillna(0)\n",
        "t_data['Buyback_Protection'] = t_data.Buyback_Protection.fillna(0)\n",
        "t_data['Title_Issue'] = t_data.Title_Issue.fillna(0)\n",
        "t_data=t_data.drop('VehHistory', axis=1)"
      ]
    },
    {
      "cell_type": "code",
      "execution_count": null,
      "metadata": {
        "id": "3EDoeZ2xE4gO"
      },
      "outputs": [],
      "source": [
        "t_data['VehFeats'] = t_data.VehFeats.fillna(0)"
      ]
    },
    {
      "cell_type": "code",
      "execution_count": null,
      "metadata": {
        "id": "cbu4o3uNEEHz"
      },
      "outputs": [],
      "source": [
        "c =[]\n",
        "#t_data[\"VehFeats\"]=t_data[\"VehFeats\"].apply(eval)\n",
        "for i, l in enumerate(t_data[\"VehFeats\"]):\n",
        "  if type(l) == int:\n",
        "    c.append(0)\n",
        "  else:\n",
        "    c.append(len(l))\n",
        "t_data['fea_count'] = c"
      ]
    },
    {
      "cell_type": "code",
      "execution_count": null,
      "metadata": {
        "id": "7A6WybLhEALB"
      },
      "outputs": [],
      "source": [
        "t_data['SellerZip'] = le.fit_transform(t_data.SellerZip)\n",
        "t_data['VehEngine'] = le.fit_transform(t_data.VehEngine)\n",
        "t_data['VehColorInt'] = le.fit_transform(t_data.VehColorInt)\n",
        "t_data['SellerState'] = le.fit_transform(t_data.SellerState)\n",
        "t_data['VehColorExt'] = le.fit_transform(t_data.VehColorExt)\n",
        "t_data['SellerListSrc'] = le.fit_transform(t_data.SellerListSrc)\n",
        "t_data['VehDriveTrain'] = le.fit_transform(t_data.VehDriveTrain)\n",
        "t_data['VehFuel'] = le.fit_transform(t_data.VehFuel)\n",
        "t_data['VehMake'] = le.fit_transform(t_data.VehMake)\n",
        "t_data['VehModel'] = le.fit_transform(t_data.VehModel)\n",
        "t_data['VehPriceLabel'] = le.fit_transform(t_data.VehPriceLabel)\n",
        "t_data['VehTransmission'] = le.fit_transform(t_data.VehTransmission)\n",
        "t_data['VehYear'] = le.fit_transform(t_data.VehYear)\n",
        "\n",
        "t_data.replace({False: 0, True: 1}, inplace=True)"
      ]
    },
    {
      "cell_type": "code",
      "execution_count": null,
      "metadata": {
        "colab": {
          "base_uri": "https://localhost:8080/",
          "height": 410
        },
        "id": "DKWnOYYx73jg",
        "outputId": "2d850560-ef79-43ac-9676-3ea150de37df"
      },
      "outputs": [
        {
          "data": {
            "text/html": [
              "\n",
              "  <div id=\"df-7ef5b8e1-beb3-4de3-90ae-3123e4680442\">\n",
              "    <div class=\"colab-df-container\">\n",
              "      <div>\n",
              "<style scoped>\n",
              "    .dataframe tbody tr th:only-of-type {\n",
              "        vertical-align: middle;\n",
              "    }\n",
              "\n",
              "    .dataframe tbody tr th {\n",
              "        vertical-align: top;\n",
              "    }\n",
              "\n",
              "    .dataframe thead th {\n",
              "        text-align: right;\n",
              "    }\n",
              "</style>\n",
              "<table border=\"1\" class=\"dataframe\">\n",
              "  <thead>\n",
              "    <tr style=\"text-align: right;\">\n",
              "      <th></th>\n",
              "      <th>ListingID</th>\n",
              "      <th>SellerCity</th>\n",
              "      <th>SellerListSrc</th>\n",
              "      <th>SellerName</th>\n",
              "      <th>SellerRating</th>\n",
              "      <th>SellerRevCnt</th>\n",
              "      <th>SellerState</th>\n",
              "      <th>SellerZip</th>\n",
              "      <th>VehCertified</th>\n",
              "      <th>VehColorExt</th>\n",
              "      <th>...</th>\n",
              "      <th>VehPriceLabel</th>\n",
              "      <th>VehSellerNotes</th>\n",
              "      <th>VehTransmission</th>\n",
              "      <th>VehYear</th>\n",
              "      <th>Owners</th>\n",
              "      <th>Accident</th>\n",
              "      <th>Non_Personal</th>\n",
              "      <th>Buyback_Protection</th>\n",
              "      <th>Title_Issue</th>\n",
              "      <th>fea_count</th>\n",
              "    </tr>\n",
              "  </thead>\n",
              "  <tbody>\n",
              "    <tr>\n",
              "      <th>997</th>\n",
              "      <td>9994646</td>\n",
              "      <td>Tampa</td>\n",
              "      <td>2</td>\n",
              "      <td>Ferman Acura</td>\n",
              "      <td>5.0</td>\n",
              "      <td>134</td>\n",
              "      <td>8</td>\n",
              "      <td>212</td>\n",
              "      <td>0</td>\n",
              "      <td>64</td>\n",
              "      <td>...</td>\n",
              "      <td>1</td>\n",
              "      <td>*BRAND NEW* *2018* *CADILLAC* *XT5** LOADED WI...</td>\n",
              "      <td>0</td>\n",
              "      <td>3</td>\n",
              "      <td>1</td>\n",
              "      <td>1</td>\n",
              "      <td>1</td>\n",
              "      <td>1</td>\n",
              "      <td>0</td>\n",
              "      <td>150</td>\n",
              "    </tr>\n",
              "    <tr>\n",
              "      <th>998</th>\n",
              "      <td>9997199</td>\n",
              "      <td>Hamburg</td>\n",
              "      <td>3</td>\n",
              "      <td>Towne Chrysler Dodge Jeep RAM Inc</td>\n",
              "      <td>3.8</td>\n",
              "      <td>7</td>\n",
              "      <td>29</td>\n",
              "      <td>34</td>\n",
              "      <td>0</td>\n",
              "      <td>38</td>\n",
              "      <td>...</td>\n",
              "      <td>0</td>\n",
              "      <td>Thousand?s of Vehicles, Positively Different E...</td>\n",
              "      <td>0</td>\n",
              "      <td>3</td>\n",
              "      <td>1</td>\n",
              "      <td>0</td>\n",
              "      <td>0</td>\n",
              "      <td>1</td>\n",
              "      <td>0</td>\n",
              "      <td>170</td>\n",
              "    </tr>\n",
              "    <tr>\n",
              "      <th>999</th>\n",
              "      <td>9999562</td>\n",
              "      <td>Rock Springs</td>\n",
              "      <td>1</td>\n",
              "      <td>Whisler Chevrolet</td>\n",
              "      <td>4.9</td>\n",
              "      <td>28</td>\n",
              "      <td>43</td>\n",
              "      <td>640</td>\n",
              "      <td>0</td>\n",
              "      <td>66</td>\n",
              "      <td>...</td>\n",
              "      <td>1</td>\n",
              "      <td>Features: 2018 Cadillac XT5 Luxury Red AWD 3.6...</td>\n",
              "      <td>0</td>\n",
              "      <td>3</td>\n",
              "      <td>1</td>\n",
              "      <td>0</td>\n",
              "      <td>1</td>\n",
              "      <td>1</td>\n",
              "      <td>0</td>\n",
              "      <td>259</td>\n",
              "    </tr>\n",
              "  </tbody>\n",
              "</table>\n",
              "<p>3 rows × 29 columns</p>\n",
              "</div>\n",
              "      <button class=\"colab-df-convert\" onclick=\"convertToInteractive('df-7ef5b8e1-beb3-4de3-90ae-3123e4680442')\"\n",
              "              title=\"Convert this dataframe to an interactive table.\"\n",
              "              style=\"display:none;\">\n",
              "        \n",
              "  <svg xmlns=\"http://www.w3.org/2000/svg\" height=\"24px\"viewBox=\"0 0 24 24\"\n",
              "       width=\"24px\">\n",
              "    <path d=\"M0 0h24v24H0V0z\" fill=\"none\"/>\n",
              "    <path d=\"M18.56 5.44l.94 2.06.94-2.06 2.06-.94-2.06-.94-.94-2.06-.94 2.06-2.06.94zm-11 1L8.5 8.5l.94-2.06 2.06-.94-2.06-.94L8.5 2.5l-.94 2.06-2.06.94zm10 10l.94 2.06.94-2.06 2.06-.94-2.06-.94-.94-2.06-.94 2.06-2.06.94z\"/><path d=\"M17.41 7.96l-1.37-1.37c-.4-.4-.92-.59-1.43-.59-.52 0-1.04.2-1.43.59L10.3 9.45l-7.72 7.72c-.78.78-.78 2.05 0 2.83L4 21.41c.39.39.9.59 1.41.59.51 0 1.02-.2 1.41-.59l7.78-7.78 2.81-2.81c.8-.78.8-2.07 0-2.86zM5.41 20L4 18.59l7.72-7.72 1.47 1.35L5.41 20z\"/>\n",
              "  </svg>\n",
              "      </button>\n",
              "      \n",
              "  <style>\n",
              "    .colab-df-container {\n",
              "      display:flex;\n",
              "      flex-wrap:wrap;\n",
              "      gap: 12px;\n",
              "    }\n",
              "\n",
              "    .colab-df-convert {\n",
              "      background-color: #E8F0FE;\n",
              "      border: none;\n",
              "      border-radius: 50%;\n",
              "      cursor: pointer;\n",
              "      display: none;\n",
              "      fill: #1967D2;\n",
              "      height: 32px;\n",
              "      padding: 0 0 0 0;\n",
              "      width: 32px;\n",
              "    }\n",
              "\n",
              "    .colab-df-convert:hover {\n",
              "      background-color: #E2EBFA;\n",
              "      box-shadow: 0px 1px 2px rgba(60, 64, 67, 0.3), 0px 1px 3px 1px rgba(60, 64, 67, 0.15);\n",
              "      fill: #174EA6;\n",
              "    }\n",
              "\n",
              "    [theme=dark] .colab-df-convert {\n",
              "      background-color: #3B4455;\n",
              "      fill: #D2E3FC;\n",
              "    }\n",
              "\n",
              "    [theme=dark] .colab-df-convert:hover {\n",
              "      background-color: #434B5C;\n",
              "      box-shadow: 0px 1px 3px 1px rgba(0, 0, 0, 0.15);\n",
              "      filter: drop-shadow(0px 1px 2px rgba(0, 0, 0, 0.3));\n",
              "      fill: #FFFFFF;\n",
              "    }\n",
              "  </style>\n",
              "\n",
              "      <script>\n",
              "        const buttonEl =\n",
              "          document.querySelector('#df-7ef5b8e1-beb3-4de3-90ae-3123e4680442 button.colab-df-convert');\n",
              "        buttonEl.style.display =\n",
              "          google.colab.kernel.accessAllowed ? 'block' : 'none';\n",
              "\n",
              "        async function convertToInteractive(key) {\n",
              "          const element = document.querySelector('#df-7ef5b8e1-beb3-4de3-90ae-3123e4680442');\n",
              "          const dataTable =\n",
              "            await google.colab.kernel.invokeFunction('convertToInteractive',\n",
              "                                                     [key], {});\n",
              "          if (!dataTable) return;\n",
              "\n",
              "          const docLinkHtml = 'Like what you see? Visit the ' +\n",
              "            '<a target=\"_blank\" href=https://colab.research.google.com/notebooks/data_table.ipynb>data table notebook</a>'\n",
              "            + ' to learn more about interactive tables.';\n",
              "          element.innerHTML = '';\n",
              "          dataTable['output_type'] = 'display_data';\n",
              "          await google.colab.output.renderOutput(dataTable, element);\n",
              "          const docLink = document.createElement('div');\n",
              "          docLink.innerHTML = docLinkHtml;\n",
              "          element.appendChild(docLink);\n",
              "        }\n",
              "      </script>\n",
              "    </div>\n",
              "  </div>\n",
              "  "
            ],
            "text/plain": [
              "     ListingID    SellerCity  SellerListSrc  \\\n",
              "997    9994646         Tampa              2   \n",
              "998    9997199       Hamburg              3   \n",
              "999    9999562  Rock Springs              1   \n",
              "\n",
              "                            SellerName  SellerRating  SellerRevCnt  \\\n",
              "997                       Ferman Acura           5.0           134   \n",
              "998  Towne Chrysler Dodge Jeep RAM Inc           3.8             7   \n",
              "999                  Whisler Chevrolet           4.9            28   \n",
              "\n",
              "     SellerState  SellerZip  VehCertified  VehColorExt  ...  VehPriceLabel  \\\n",
              "997            8        212             0           64  ...              1   \n",
              "998           29         34             0           38  ...              0   \n",
              "999           43        640             0           66  ...              1   \n",
              "\n",
              "                                        VehSellerNotes  VehTransmission  \\\n",
              "997  *BRAND NEW* *2018* *CADILLAC* *XT5** LOADED WI...                0   \n",
              "998  Thousand?s of Vehicles, Positively Different E...                0   \n",
              "999  Features: 2018 Cadillac XT5 Luxury Red AWD 3.6...                0   \n",
              "\n",
              "    VehYear  Owners  Accident  Non_Personal  Buyback_Protection  Title_Issue  \\\n",
              "997       3       1         1             1                   1            0   \n",
              "998       3       1         0             0                   1            0   \n",
              "999       3       1         0             1                   1            0   \n",
              "\n",
              "     fea_count  \n",
              "997        150  \n",
              "998        170  \n",
              "999        259  \n",
              "\n",
              "[3 rows x 29 columns]"
            ]
          },
          "execution_count": 289,
          "metadata": {},
          "output_type": "execute_result"
        }
      ],
      "source": [
        "t_data.tail(3)"
      ]
    },
    {
      "cell_type": "markdown",
      "metadata": {
        "id": "OOHdIprj7vkg"
      },
      "source": [
        "### Prediction"
      ]
    },
    {
      "cell_type": "code",
      "execution_count": null,
      "metadata": {
        "colab": {
          "base_uri": "https://localhost:8080/"
        },
        "id": "y6tSEFGPF9KS",
        "outputId": "543c6814-6e3c-42fa-c92a-f614945b2cec"
      },
      "outputs": [
        {
          "data": {
            "text/plain": [
              "(1000, 24)"
            ]
          },
          "execution_count": 292,
          "metadata": {},
          "output_type": "execute_result"
        }
      ],
      "source": [
        "t_clean.shape"
      ]
    },
    {
      "cell_type": "code",
      "execution_count": null,
      "metadata": {
        "id": "9uy4u1L38B0n"
      },
      "outputs": [],
      "source": [
        "t_clean = t_data.drop(['SellerCity','SellerName','VehFeats','ListingID','VehSellerNotes'], axis=1)"
      ]
    },
    {
      "cell_type": "code",
      "execution_count": null,
      "metadata": {
        "id": "7kBF1sX57nuf"
      },
      "outputs": [],
      "source": [
        "p1 = xg_reg.predict(t_clean)\n",
        "p2 = classifier.predict(t_clean)"
      ]
    },
    {
      "cell_type": "code",
      "execution_count": null,
      "metadata": {
        "id": "FYFcgV98-AQK"
      },
      "outputs": [],
      "source": [
        "temp = pd.DataFrame(predictions.todense(),columns= trim_names)"
      ]
    },
    {
      "cell_type": "code",
      "execution_count": null,
      "metadata": {
        "id": "BjgufZDrB5Iw"
      },
      "outputs": [],
      "source": [
        "result = pd.DataFrame()\n",
        "result['ListingID'] = t_data['ListingID']\n",
        "result['Vehicle_Trim'] = temp.idxmax(axis=1)\n",
        "result['Dealer_Listing_Pric'] = p1"
      ]
    },
    {
      "cell_type": "code",
      "execution_count": null,
      "metadata": {
        "colab": {
          "base_uri": "https://localhost:8080/",
          "height": 112
        },
        "id": "oDTuVKqMCe9P",
        "outputId": "4da93997-15de-4c21-f29d-e5f1e0da99a3"
      },
      "outputs": [
        {
          "data": {
            "text/html": [
              "\n",
              "  <div id=\"df-d7fe1f10-fce3-468d-b1f9-b382308653e5\">\n",
              "    <div class=\"colab-df-container\">\n",
              "      <div>\n",
              "<style scoped>\n",
              "    .dataframe tbody tr th:only-of-type {\n",
              "        vertical-align: middle;\n",
              "    }\n",
              "\n",
              "    .dataframe tbody tr th {\n",
              "        vertical-align: top;\n",
              "    }\n",
              "\n",
              "    .dataframe thead th {\n",
              "        text-align: right;\n",
              "    }\n",
              "</style>\n",
              "<table border=\"1\" class=\"dataframe\">\n",
              "  <thead>\n",
              "    <tr style=\"text-align: right;\">\n",
              "      <th></th>\n",
              "      <th>ListingID</th>\n",
              "      <th>Vehicle_Trim</th>\n",
              "      <th>Dealer_Listing_Pric</th>\n",
              "    </tr>\n",
              "  </thead>\n",
              "  <tbody>\n",
              "    <tr>\n",
              "      <th>998</th>\n",
              "      <td>9997199</td>\n",
              "      <td>limited</td>\n",
              "      <td>49200.710938</td>\n",
              "    </tr>\n",
              "    <tr>\n",
              "      <th>999</th>\n",
              "      <td>9999562</td>\n",
              "      <td>laredo</td>\n",
              "      <td>36762.578125</td>\n",
              "    </tr>\n",
              "  </tbody>\n",
              "</table>\n",
              "</div>\n",
              "      <button class=\"colab-df-convert\" onclick=\"convertToInteractive('df-d7fe1f10-fce3-468d-b1f9-b382308653e5')\"\n",
              "              title=\"Convert this dataframe to an interactive table.\"\n",
              "              style=\"display:none;\">\n",
              "        \n",
              "  <svg xmlns=\"http://www.w3.org/2000/svg\" height=\"24px\"viewBox=\"0 0 24 24\"\n",
              "       width=\"24px\">\n",
              "    <path d=\"M0 0h24v24H0V0z\" fill=\"none\"/>\n",
              "    <path d=\"M18.56 5.44l.94 2.06.94-2.06 2.06-.94-2.06-.94-.94-2.06-.94 2.06-2.06.94zm-11 1L8.5 8.5l.94-2.06 2.06-.94-2.06-.94L8.5 2.5l-.94 2.06-2.06.94zm10 10l.94 2.06.94-2.06 2.06-.94-2.06-.94-.94-2.06-.94 2.06-2.06.94z\"/><path d=\"M17.41 7.96l-1.37-1.37c-.4-.4-.92-.59-1.43-.59-.52 0-1.04.2-1.43.59L10.3 9.45l-7.72 7.72c-.78.78-.78 2.05 0 2.83L4 21.41c.39.39.9.59 1.41.59.51 0 1.02-.2 1.41-.59l7.78-7.78 2.81-2.81c.8-.78.8-2.07 0-2.86zM5.41 20L4 18.59l7.72-7.72 1.47 1.35L5.41 20z\"/>\n",
              "  </svg>\n",
              "      </button>\n",
              "      \n",
              "  <style>\n",
              "    .colab-df-container {\n",
              "      display:flex;\n",
              "      flex-wrap:wrap;\n",
              "      gap: 12px;\n",
              "    }\n",
              "\n",
              "    .colab-df-convert {\n",
              "      background-color: #E8F0FE;\n",
              "      border: none;\n",
              "      border-radius: 50%;\n",
              "      cursor: pointer;\n",
              "      display: none;\n",
              "      fill: #1967D2;\n",
              "      height: 32px;\n",
              "      padding: 0 0 0 0;\n",
              "      width: 32px;\n",
              "    }\n",
              "\n",
              "    .colab-df-convert:hover {\n",
              "      background-color: #E2EBFA;\n",
              "      box-shadow: 0px 1px 2px rgba(60, 64, 67, 0.3), 0px 1px 3px 1px rgba(60, 64, 67, 0.15);\n",
              "      fill: #174EA6;\n",
              "    }\n",
              "\n",
              "    [theme=dark] .colab-df-convert {\n",
              "      background-color: #3B4455;\n",
              "      fill: #D2E3FC;\n",
              "    }\n",
              "\n",
              "    [theme=dark] .colab-df-convert:hover {\n",
              "      background-color: #434B5C;\n",
              "      box-shadow: 0px 1px 3px 1px rgba(0, 0, 0, 0.15);\n",
              "      filter: drop-shadow(0px 1px 2px rgba(0, 0, 0, 0.3));\n",
              "      fill: #FFFFFF;\n",
              "    }\n",
              "  </style>\n",
              "\n",
              "      <script>\n",
              "        const buttonEl =\n",
              "          document.querySelector('#df-d7fe1f10-fce3-468d-b1f9-b382308653e5 button.colab-df-convert');\n",
              "        buttonEl.style.display =\n",
              "          google.colab.kernel.accessAllowed ? 'block' : 'none';\n",
              "\n",
              "        async function convertToInteractive(key) {\n",
              "          const element = document.querySelector('#df-d7fe1f10-fce3-468d-b1f9-b382308653e5');\n",
              "          const dataTable =\n",
              "            await google.colab.kernel.invokeFunction('convertToInteractive',\n",
              "                                                     [key], {});\n",
              "          if (!dataTable) return;\n",
              "\n",
              "          const docLinkHtml = 'Like what you see? Visit the ' +\n",
              "            '<a target=\"_blank\" href=https://colab.research.google.com/notebooks/data_table.ipynb>data table notebook</a>'\n",
              "            + ' to learn more about interactive tables.';\n",
              "          element.innerHTML = '';\n",
              "          dataTable['output_type'] = 'display_data';\n",
              "          await google.colab.output.renderOutput(dataTable, element);\n",
              "          const docLink = document.createElement('div');\n",
              "          docLink.innerHTML = docLinkHtml;\n",
              "          element.appendChild(docLink);\n",
              "        }\n",
              "      </script>\n",
              "    </div>\n",
              "  </div>\n",
              "  "
            ],
            "text/plain": [
              "     ListingID Vehicle_Trim  Dealer_Listing_Pric\n",
              "998    9997199      limited         49200.710938\n",
              "999    9999562       laredo         36762.578125"
            ]
          },
          "execution_count": 299,
          "metadata": {},
          "output_type": "execute_result"
        }
      ],
      "source": [
        "result.tail(2)"
      ]
    },
    {
      "cell_type": "code",
      "execution_count": null,
      "metadata": {
        "id": "wvcioyJiGebN"
      },
      "outputs": [],
      "source": [
        "result.to_csv('/content/result.csv')  "
      ]
    },
    {
      "cell_type": "code",
      "execution_count": null,
      "metadata": {
        "id": "aLQVfFGfG42B"
      },
      "outputs": [],
      "source": [
        ""
      ]
    }
  ],
  "metadata": {
    "colab": {
      "collapsed_sections": [
        "FxiJ3cYeQsg1",
        "XNfJNjUpWaf_",
        "tra5MHY0WrA7",
        "2Mn9o4BauHcN",
        "G6ltoP3JUqhp",
        "dEpcYrMMio9O",
        "sVX2akdBb8Mp",
        "noFOiAptVrpj",
        "AYpm_Dl_FXWY",
        "365TMgtZQ4Cp"
      ],
      "name": "Used_Car_Prediction.ipynb",
      "provenance": [],
      "toc_visible": true,
      "authorship_tag": "ABX9TyNKiY014RcOYJjG1bgxFT+u",
      "include_colab_link": true
    },
    "kernelspec": {
      "display_name": "Python 3",
      "name": "python3"
    },
    "language_info": {
      "name": "python"
    }
  },
  "nbformat": 4,
  "nbformat_minor": 0
}